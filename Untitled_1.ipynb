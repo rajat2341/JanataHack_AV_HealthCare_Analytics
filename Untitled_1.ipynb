{
 "cells": [
  {
   "cell_type": "code",
   "execution_count": 491,
   "metadata": {},
   "outputs": [],
   "source": [
    "import pandas as pd\n",
    "import numpy as np\n",
    "import matplotlib.pyplot as plt\n",
    "%matplotlib inline\n",
    "import seaborn as sns\n",
    "import datetime"
   ]
  },
  {
   "cell_type": "code",
   "execution_count": 492,
   "metadata": {},
   "outputs": [],
   "source": [
    "First_Health_Camp_Attended = pd.read_csv(\"data/First_Health_Camp_Attended.csv\")\n",
    "Health_Camp_Detail = pd.read_csv(\"data/Health_Camp_Detail.csv\")\n",
    "Patient_Profile = pd.read_csv(\"data/Patient_Profile.csv\")\n",
    "ss = pd.read_csv(\"data/sample_submmission.csv\")\n",
    "Second_Health_Camp_Attended = pd.read_csv(\"data/Second_Health_Camp_Attended.csv\")\n",
    "test = pd.read_csv(\"data/test_l0Auv8Q.csv\")\n",
    "Third_Health_Camp_Attended = pd.read_csv(\"data/Third_Health_Camp_Attended.csv\")\n",
    "train = pd.read_csv(\"data/Train.csv\")"
   ]
  },
  {
   "cell_type": "markdown",
   "metadata": {},
   "source": [
    "### EDA"
   ]
  },
  {
   "cell_type": "code",
   "execution_count": 493,
   "metadata": {},
   "outputs": [
    {
     "data": {
      "text/html": [
       "<div>\n",
       "<style scoped>\n",
       "    .dataframe tbody tr th:only-of-type {\n",
       "        vertical-align: middle;\n",
       "    }\n",
       "\n",
       "    .dataframe tbody tr th {\n",
       "        vertical-align: top;\n",
       "    }\n",
       "\n",
       "    .dataframe thead th {\n",
       "        text-align: right;\n",
       "    }\n",
       "</style>\n",
       "<table border=\"1\" class=\"dataframe\">\n",
       "  <thead>\n",
       "    <tr style=\"text-align: right;\">\n",
       "      <th></th>\n",
       "      <th>Patient_ID</th>\n",
       "      <th>Health_Camp_ID</th>\n",
       "      <th>Outcome</th>\n",
       "    </tr>\n",
       "  </thead>\n",
       "  <tbody>\n",
       "    <tr>\n",
       "      <th>0</th>\n",
       "      <td>505701</td>\n",
       "      <td>6548</td>\n",
       "      <td>0.5</td>\n",
       "    </tr>\n",
       "    <tr>\n",
       "      <th>1</th>\n",
       "      <td>500633</td>\n",
       "      <td>6584</td>\n",
       "      <td>0.5</td>\n",
       "    </tr>\n",
       "    <tr>\n",
       "      <th>2</th>\n",
       "      <td>506945</td>\n",
       "      <td>6582</td>\n",
       "      <td>0.5</td>\n",
       "    </tr>\n",
       "    <tr>\n",
       "      <th>3</th>\n",
       "      <td>497447</td>\n",
       "      <td>6551</td>\n",
       "      <td>0.5</td>\n",
       "    </tr>\n",
       "    <tr>\n",
       "      <th>4</th>\n",
       "      <td>496446</td>\n",
       "      <td>6533</td>\n",
       "      <td>0.5</td>\n",
       "    </tr>\n",
       "  </tbody>\n",
       "</table>\n",
       "</div>"
      ],
      "text/plain": [
       "   Patient_ID  Health_Camp_ID  Outcome\n",
       "0      505701            6548      0.5\n",
       "1      500633            6584      0.5\n",
       "2      506945            6582      0.5\n",
       "3      497447            6551      0.5\n",
       "4      496446            6533      0.5"
      ]
     },
     "execution_count": 493,
     "metadata": {},
     "output_type": "execute_result"
    }
   ],
   "source": [
    "ss.head()"
   ]
  },
  {
   "cell_type": "code",
   "execution_count": 494,
   "metadata": {},
   "outputs": [
    {
     "data": {
      "text/html": [
       "<div>\n",
       "<style scoped>\n",
       "    .dataframe tbody tr th:only-of-type {\n",
       "        vertical-align: middle;\n",
       "    }\n",
       "\n",
       "    .dataframe tbody tr th {\n",
       "        vertical-align: top;\n",
       "    }\n",
       "\n",
       "    .dataframe thead th {\n",
       "        text-align: right;\n",
       "    }\n",
       "</style>\n",
       "<table border=\"1\" class=\"dataframe\">\n",
       "  <thead>\n",
       "    <tr style=\"text-align: right;\">\n",
       "      <th></th>\n",
       "      <th>Patient_ID</th>\n",
       "      <th>Online_Follower</th>\n",
       "      <th>LinkedIn_Shared</th>\n",
       "      <th>Twitter_Shared</th>\n",
       "      <th>Facebook_Shared</th>\n",
       "      <th>Income</th>\n",
       "      <th>Education_Score</th>\n",
       "      <th>Age</th>\n",
       "      <th>First_Interaction</th>\n",
       "      <th>City_Type</th>\n",
       "      <th>Employer_Category</th>\n",
       "    </tr>\n",
       "  </thead>\n",
       "  <tbody>\n",
       "    <tr>\n",
       "      <th>0</th>\n",
       "      <td>516956</td>\n",
       "      <td>0</td>\n",
       "      <td>0</td>\n",
       "      <td>0</td>\n",
       "      <td>0</td>\n",
       "      <td>1</td>\n",
       "      <td>90</td>\n",
       "      <td>39</td>\n",
       "      <td>18-Jun-03</td>\n",
       "      <td>NaN</td>\n",
       "      <td>Software Industry</td>\n",
       "    </tr>\n",
       "    <tr>\n",
       "      <th>1</th>\n",
       "      <td>507733</td>\n",
       "      <td>0</td>\n",
       "      <td>0</td>\n",
       "      <td>0</td>\n",
       "      <td>0</td>\n",
       "      <td>1</td>\n",
       "      <td>None</td>\n",
       "      <td>40</td>\n",
       "      <td>20-Jul-03</td>\n",
       "      <td>H</td>\n",
       "      <td>Software Industry</td>\n",
       "    </tr>\n",
       "    <tr>\n",
       "      <th>2</th>\n",
       "      <td>508307</td>\n",
       "      <td>0</td>\n",
       "      <td>0</td>\n",
       "      <td>0</td>\n",
       "      <td>0</td>\n",
       "      <td>3</td>\n",
       "      <td>87</td>\n",
       "      <td>46</td>\n",
       "      <td>02-Nov-02</td>\n",
       "      <td>D</td>\n",
       "      <td>BFSI</td>\n",
       "    </tr>\n",
       "    <tr>\n",
       "      <th>3</th>\n",
       "      <td>512612</td>\n",
       "      <td>0</td>\n",
       "      <td>0</td>\n",
       "      <td>0</td>\n",
       "      <td>0</td>\n",
       "      <td>1</td>\n",
       "      <td>75</td>\n",
       "      <td>47</td>\n",
       "      <td>02-Nov-02</td>\n",
       "      <td>D</td>\n",
       "      <td>Education</td>\n",
       "    </tr>\n",
       "    <tr>\n",
       "      <th>4</th>\n",
       "      <td>521075</td>\n",
       "      <td>0</td>\n",
       "      <td>0</td>\n",
       "      <td>0</td>\n",
       "      <td>0</td>\n",
       "      <td>3</td>\n",
       "      <td>None</td>\n",
       "      <td>80</td>\n",
       "      <td>24-Nov-02</td>\n",
       "      <td>H</td>\n",
       "      <td>Others</td>\n",
       "    </tr>\n",
       "  </tbody>\n",
       "</table>\n",
       "</div>"
      ],
      "text/plain": [
       "   Patient_ID  Online_Follower  LinkedIn_Shared  Twitter_Shared  \\\n",
       "0      516956                0                0               0   \n",
       "1      507733                0                0               0   \n",
       "2      508307                0                0               0   \n",
       "3      512612                0                0               0   \n",
       "4      521075                0                0               0   \n",
       "\n",
       "   Facebook_Shared Income Education_Score Age First_Interaction City_Type  \\\n",
       "0                0      1              90  39         18-Jun-03       NaN   \n",
       "1                0      1            None  40         20-Jul-03         H   \n",
       "2                0      3              87  46         02-Nov-02         D   \n",
       "3                0      1              75  47         02-Nov-02         D   \n",
       "4                0      3            None  80         24-Nov-02         H   \n",
       "\n",
       "   Employer_Category  \n",
       "0  Software Industry  \n",
       "1  Software Industry  \n",
       "2               BFSI  \n",
       "3          Education  \n",
       "4             Others  "
      ]
     },
     "execution_count": 494,
     "metadata": {},
     "output_type": "execute_result"
    }
   ],
   "source": [
    "Patient_Profile.head()"
   ]
  },
  {
   "cell_type": "code",
   "execution_count": 495,
   "metadata": {},
   "outputs": [
    {
     "data": {
      "text/html": [
       "<div>\n",
       "<style scoped>\n",
       "    .dataframe tbody tr th:only-of-type {\n",
       "        vertical-align: middle;\n",
       "    }\n",
       "\n",
       "    .dataframe tbody tr th {\n",
       "        vertical-align: top;\n",
       "    }\n",
       "\n",
       "    .dataframe thead th {\n",
       "        text-align: right;\n",
       "    }\n",
       "</style>\n",
       "<table border=\"1\" class=\"dataframe\">\n",
       "  <thead>\n",
       "    <tr style=\"text-align: right;\">\n",
       "      <th></th>\n",
       "      <th>Health_Camp_ID</th>\n",
       "      <th>Camp_Start_Date</th>\n",
       "      <th>Camp_End_Date</th>\n",
       "      <th>Category1</th>\n",
       "      <th>Category2</th>\n",
       "      <th>Category3</th>\n",
       "    </tr>\n",
       "  </thead>\n",
       "  <tbody>\n",
       "    <tr>\n",
       "      <th>0</th>\n",
       "      <td>6560</td>\n",
       "      <td>16-Aug-03</td>\n",
       "      <td>20-Aug-03</td>\n",
       "      <td>First</td>\n",
       "      <td>B</td>\n",
       "      <td>2</td>\n",
       "    </tr>\n",
       "    <tr>\n",
       "      <th>1</th>\n",
       "      <td>6530</td>\n",
       "      <td>16-Aug-03</td>\n",
       "      <td>28-Oct-03</td>\n",
       "      <td>First</td>\n",
       "      <td>C</td>\n",
       "      <td>2</td>\n",
       "    </tr>\n",
       "    <tr>\n",
       "      <th>2</th>\n",
       "      <td>6544</td>\n",
       "      <td>03-Nov-03</td>\n",
       "      <td>15-Nov-03</td>\n",
       "      <td>First</td>\n",
       "      <td>F</td>\n",
       "      <td>1</td>\n",
       "    </tr>\n",
       "    <tr>\n",
       "      <th>3</th>\n",
       "      <td>6585</td>\n",
       "      <td>22-Nov-03</td>\n",
       "      <td>05-Dec-03</td>\n",
       "      <td>First</td>\n",
       "      <td>E</td>\n",
       "      <td>2</td>\n",
       "    </tr>\n",
       "    <tr>\n",
       "      <th>4</th>\n",
       "      <td>6561</td>\n",
       "      <td>30-Nov-03</td>\n",
       "      <td>18-Dec-03</td>\n",
       "      <td>First</td>\n",
       "      <td>E</td>\n",
       "      <td>1</td>\n",
       "    </tr>\n",
       "  </tbody>\n",
       "</table>\n",
       "</div>"
      ],
      "text/plain": [
       "   Health_Camp_ID Camp_Start_Date Camp_End_Date Category1 Category2  Category3\n",
       "0            6560       16-Aug-03     20-Aug-03     First         B          2\n",
       "1            6530       16-Aug-03     28-Oct-03     First         C          2\n",
       "2            6544       03-Nov-03     15-Nov-03     First         F          1\n",
       "3            6585       22-Nov-03     05-Dec-03     First         E          2\n",
       "4            6561       30-Nov-03     18-Dec-03     First         E          1"
      ]
     },
     "execution_count": 495,
     "metadata": {},
     "output_type": "execute_result"
    }
   ],
   "source": [
    "Health_Camp_Detail.head()"
   ]
  },
  {
   "cell_type": "code",
   "execution_count": 496,
   "metadata": {},
   "outputs": [
    {
     "data": {
      "text/html": [
       "<div>\n",
       "<style scoped>\n",
       "    .dataframe tbody tr th:only-of-type {\n",
       "        vertical-align: middle;\n",
       "    }\n",
       "\n",
       "    .dataframe tbody tr th {\n",
       "        vertical-align: top;\n",
       "    }\n",
       "\n",
       "    .dataframe thead th {\n",
       "        text-align: right;\n",
       "    }\n",
       "</style>\n",
       "<table border=\"1\" class=\"dataframe\">\n",
       "  <thead>\n",
       "    <tr style=\"text-align: right;\">\n",
       "      <th></th>\n",
       "      <th>Patient_ID</th>\n",
       "      <th>Health_Camp_ID</th>\n",
       "      <th>Donation</th>\n",
       "      <th>Health_Score</th>\n",
       "      <th>Unnamed: 4</th>\n",
       "    </tr>\n",
       "  </thead>\n",
       "  <tbody>\n",
       "    <tr>\n",
       "      <th>0</th>\n",
       "      <td>506181</td>\n",
       "      <td>6560</td>\n",
       "      <td>40</td>\n",
       "      <td>0.439024</td>\n",
       "      <td>NaN</td>\n",
       "    </tr>\n",
       "    <tr>\n",
       "      <th>1</th>\n",
       "      <td>494977</td>\n",
       "      <td>6560</td>\n",
       "      <td>20</td>\n",
       "      <td>0.097561</td>\n",
       "      <td>NaN</td>\n",
       "    </tr>\n",
       "    <tr>\n",
       "      <th>2</th>\n",
       "      <td>518680</td>\n",
       "      <td>6560</td>\n",
       "      <td>10</td>\n",
       "      <td>0.048780</td>\n",
       "      <td>NaN</td>\n",
       "    </tr>\n",
       "    <tr>\n",
       "      <th>3</th>\n",
       "      <td>509916</td>\n",
       "      <td>6560</td>\n",
       "      <td>30</td>\n",
       "      <td>0.634146</td>\n",
       "      <td>NaN</td>\n",
       "    </tr>\n",
       "    <tr>\n",
       "      <th>4</th>\n",
       "      <td>488006</td>\n",
       "      <td>6560</td>\n",
       "      <td>20</td>\n",
       "      <td>0.024390</td>\n",
       "      <td>NaN</td>\n",
       "    </tr>\n",
       "  </tbody>\n",
       "</table>\n",
       "</div>"
      ],
      "text/plain": [
       "   Patient_ID  Health_Camp_ID  Donation  Health_Score  Unnamed: 4\n",
       "0      506181            6560        40      0.439024         NaN\n",
       "1      494977            6560        20      0.097561         NaN\n",
       "2      518680            6560        10      0.048780         NaN\n",
       "3      509916            6560        30      0.634146         NaN\n",
       "4      488006            6560        20      0.024390         NaN"
      ]
     },
     "execution_count": 496,
     "metadata": {},
     "output_type": "execute_result"
    }
   ],
   "source": [
    "First_Health_Camp_Attended.head()"
   ]
  },
  {
   "cell_type": "code",
   "execution_count": 497,
   "metadata": {},
   "outputs": [
    {
     "data": {
      "text/html": [
       "<div>\n",
       "<style scoped>\n",
       "    .dataframe tbody tr th:only-of-type {\n",
       "        vertical-align: middle;\n",
       "    }\n",
       "\n",
       "    .dataframe tbody tr th {\n",
       "        vertical-align: top;\n",
       "    }\n",
       "\n",
       "    .dataframe thead th {\n",
       "        text-align: right;\n",
       "    }\n",
       "</style>\n",
       "<table border=\"1\" class=\"dataframe\">\n",
       "  <thead>\n",
       "    <tr style=\"text-align: right;\">\n",
       "      <th></th>\n",
       "      <th>Patient_ID</th>\n",
       "      <th>Health_Camp_ID</th>\n",
       "      <th>Health Score</th>\n",
       "    </tr>\n",
       "  </thead>\n",
       "  <tbody>\n",
       "    <tr>\n",
       "      <th>0</th>\n",
       "      <td>526631</td>\n",
       "      <td>6536</td>\n",
       "      <td>0.875136</td>\n",
       "    </tr>\n",
       "    <tr>\n",
       "      <th>1</th>\n",
       "      <td>509122</td>\n",
       "      <td>6536</td>\n",
       "      <td>0.755700</td>\n",
       "    </tr>\n",
       "    <tr>\n",
       "      <th>2</th>\n",
       "      <td>498864</td>\n",
       "      <td>6536</td>\n",
       "      <td>0.673181</td>\n",
       "    </tr>\n",
       "    <tr>\n",
       "      <th>3</th>\n",
       "      <td>515398</td>\n",
       "      <td>6536</td>\n",
       "      <td>0.722041</td>\n",
       "    </tr>\n",
       "    <tr>\n",
       "      <th>4</th>\n",
       "      <td>504624</td>\n",
       "      <td>6536</td>\n",
       "      <td>0.464712</td>\n",
       "    </tr>\n",
       "  </tbody>\n",
       "</table>\n",
       "</div>"
      ],
      "text/plain": [
       "   Patient_ID  Health_Camp_ID  Health Score\n",
       "0      526631            6536      0.875136\n",
       "1      509122            6536      0.755700\n",
       "2      498864            6536      0.673181\n",
       "3      515398            6536      0.722041\n",
       "4      504624            6536      0.464712"
      ]
     },
     "execution_count": 497,
     "metadata": {},
     "output_type": "execute_result"
    }
   ],
   "source": [
    "Second_Health_Camp_Attended.head()"
   ]
  },
  {
   "cell_type": "code",
   "execution_count": 498,
   "metadata": {},
   "outputs": [
    {
     "data": {
      "text/html": [
       "<div>\n",
       "<style scoped>\n",
       "    .dataframe tbody tr th:only-of-type {\n",
       "        vertical-align: middle;\n",
       "    }\n",
       "\n",
       "    .dataframe tbody tr th {\n",
       "        vertical-align: top;\n",
       "    }\n",
       "\n",
       "    .dataframe thead th {\n",
       "        text-align: right;\n",
       "    }\n",
       "</style>\n",
       "<table border=\"1\" class=\"dataframe\">\n",
       "  <thead>\n",
       "    <tr style=\"text-align: right;\">\n",
       "      <th></th>\n",
       "      <th>Patient_ID</th>\n",
       "      <th>Health_Camp_ID</th>\n",
       "      <th>Number_of_stall_visited</th>\n",
       "      <th>Last_Stall_Visited_Number</th>\n",
       "    </tr>\n",
       "  </thead>\n",
       "  <tbody>\n",
       "    <tr>\n",
       "      <th>0</th>\n",
       "      <td>517875</td>\n",
       "      <td>6527</td>\n",
       "      <td>3</td>\n",
       "      <td>1</td>\n",
       "    </tr>\n",
       "    <tr>\n",
       "      <th>1</th>\n",
       "      <td>504692</td>\n",
       "      <td>6578</td>\n",
       "      <td>1</td>\n",
       "      <td>1</td>\n",
       "    </tr>\n",
       "    <tr>\n",
       "      <th>2</th>\n",
       "      <td>504692</td>\n",
       "      <td>6527</td>\n",
       "      <td>3</td>\n",
       "      <td>1</td>\n",
       "    </tr>\n",
       "    <tr>\n",
       "      <th>3</th>\n",
       "      <td>493167</td>\n",
       "      <td>6527</td>\n",
       "      <td>4</td>\n",
       "      <td>4</td>\n",
       "    </tr>\n",
       "    <tr>\n",
       "      <th>4</th>\n",
       "      <td>510954</td>\n",
       "      <td>6528</td>\n",
       "      <td>2</td>\n",
       "      <td>2</td>\n",
       "    </tr>\n",
       "  </tbody>\n",
       "</table>\n",
       "</div>"
      ],
      "text/plain": [
       "   Patient_ID  Health_Camp_ID  Number_of_stall_visited  \\\n",
       "0      517875            6527                        3   \n",
       "1      504692            6578                        1   \n",
       "2      504692            6527                        3   \n",
       "3      493167            6527                        4   \n",
       "4      510954            6528                        2   \n",
       "\n",
       "   Last_Stall_Visited_Number  \n",
       "0                          1  \n",
       "1                          1  \n",
       "2                          1  \n",
       "3                          4  \n",
       "4                          2  "
      ]
     },
     "execution_count": 498,
     "metadata": {},
     "output_type": "execute_result"
    }
   ],
   "source": [
    "Third_Health_Camp_Attended.head()"
   ]
  },
  {
   "cell_type": "code",
   "execution_count": 499,
   "metadata": {},
   "outputs": [
    {
     "data": {
      "text/html": [
       "<div>\n",
       "<style scoped>\n",
       "    .dataframe tbody tr th:only-of-type {\n",
       "        vertical-align: middle;\n",
       "    }\n",
       "\n",
       "    .dataframe tbody tr th {\n",
       "        vertical-align: top;\n",
       "    }\n",
       "\n",
       "    .dataframe thead th {\n",
       "        text-align: right;\n",
       "    }\n",
       "</style>\n",
       "<table border=\"1\" class=\"dataframe\">\n",
       "  <thead>\n",
       "    <tr style=\"text-align: right;\">\n",
       "      <th></th>\n",
       "      <th>Patient_ID</th>\n",
       "      <th>Health_Camp_ID</th>\n",
       "      <th>Registration_Date</th>\n",
       "      <th>Var1</th>\n",
       "      <th>Var2</th>\n",
       "      <th>Var3</th>\n",
       "      <th>Var4</th>\n",
       "      <th>Var5</th>\n",
       "    </tr>\n",
       "  </thead>\n",
       "  <tbody>\n",
       "    <tr>\n",
       "      <th>0</th>\n",
       "      <td>489652</td>\n",
       "      <td>6578</td>\n",
       "      <td>10-Sep-05</td>\n",
       "      <td>4</td>\n",
       "      <td>0</td>\n",
       "      <td>0</td>\n",
       "      <td>0</td>\n",
       "      <td>2</td>\n",
       "    </tr>\n",
       "    <tr>\n",
       "      <th>1</th>\n",
       "      <td>507246</td>\n",
       "      <td>6578</td>\n",
       "      <td>18-Aug-05</td>\n",
       "      <td>45</td>\n",
       "      <td>5</td>\n",
       "      <td>0</td>\n",
       "      <td>0</td>\n",
       "      <td>7</td>\n",
       "    </tr>\n",
       "    <tr>\n",
       "      <th>2</th>\n",
       "      <td>523729</td>\n",
       "      <td>6534</td>\n",
       "      <td>29-Apr-06</td>\n",
       "      <td>0</td>\n",
       "      <td>0</td>\n",
       "      <td>0</td>\n",
       "      <td>0</td>\n",
       "      <td>0</td>\n",
       "    </tr>\n",
       "    <tr>\n",
       "      <th>3</th>\n",
       "      <td>524931</td>\n",
       "      <td>6535</td>\n",
       "      <td>07-Feb-04</td>\n",
       "      <td>0</td>\n",
       "      <td>0</td>\n",
       "      <td>0</td>\n",
       "      <td>0</td>\n",
       "      <td>0</td>\n",
       "    </tr>\n",
       "    <tr>\n",
       "      <th>4</th>\n",
       "      <td>521364</td>\n",
       "      <td>6529</td>\n",
       "      <td>28-Feb-06</td>\n",
       "      <td>15</td>\n",
       "      <td>1</td>\n",
       "      <td>0</td>\n",
       "      <td>0</td>\n",
       "      <td>7</td>\n",
       "    </tr>\n",
       "  </tbody>\n",
       "</table>\n",
       "</div>"
      ],
      "text/plain": [
       "   Patient_ID  Health_Camp_ID Registration_Date  Var1  Var2  Var3  Var4  Var5\n",
       "0      489652            6578         10-Sep-05     4     0     0     0     2\n",
       "1      507246            6578         18-Aug-05    45     5     0     0     7\n",
       "2      523729            6534         29-Apr-06     0     0     0     0     0\n",
       "3      524931            6535         07-Feb-04     0     0     0     0     0\n",
       "4      521364            6529         28-Feb-06    15     1     0     0     7"
      ]
     },
     "execution_count": 499,
     "metadata": {},
     "output_type": "execute_result"
    }
   ],
   "source": [
    "train.head()"
   ]
  },
  {
   "cell_type": "code",
   "execution_count": 500,
   "metadata": {},
   "outputs": [
    {
     "data": {
      "text/html": [
       "<div>\n",
       "<style scoped>\n",
       "    .dataframe tbody tr th:only-of-type {\n",
       "        vertical-align: middle;\n",
       "    }\n",
       "\n",
       "    .dataframe tbody tr th {\n",
       "        vertical-align: top;\n",
       "    }\n",
       "\n",
       "    .dataframe thead th {\n",
       "        text-align: right;\n",
       "    }\n",
       "</style>\n",
       "<table border=\"1\" class=\"dataframe\">\n",
       "  <thead>\n",
       "    <tr style=\"text-align: right;\">\n",
       "      <th></th>\n",
       "      <th>Patient_ID</th>\n",
       "      <th>Health_Camp_ID</th>\n",
       "      <th>Registration_Date</th>\n",
       "      <th>Var1</th>\n",
       "      <th>Var2</th>\n",
       "      <th>Var3</th>\n",
       "      <th>Var4</th>\n",
       "      <th>Var5</th>\n",
       "    </tr>\n",
       "  </thead>\n",
       "  <tbody>\n",
       "    <tr>\n",
       "      <th>0</th>\n",
       "      <td>505701</td>\n",
       "      <td>6548</td>\n",
       "      <td>21-May-06</td>\n",
       "      <td>1</td>\n",
       "      <td>0</td>\n",
       "      <td>0</td>\n",
       "      <td>0</td>\n",
       "      <td>2</td>\n",
       "    </tr>\n",
       "    <tr>\n",
       "      <th>1</th>\n",
       "      <td>500633</td>\n",
       "      <td>6584</td>\n",
       "      <td>02-Jun-06</td>\n",
       "      <td>0</td>\n",
       "      <td>0</td>\n",
       "      <td>0</td>\n",
       "      <td>0</td>\n",
       "      <td>0</td>\n",
       "    </tr>\n",
       "    <tr>\n",
       "      <th>2</th>\n",
       "      <td>506945</td>\n",
       "      <td>6582</td>\n",
       "      <td>10-Aug-06</td>\n",
       "      <td>0</td>\n",
       "      <td>0</td>\n",
       "      <td>0</td>\n",
       "      <td>0</td>\n",
       "      <td>0</td>\n",
       "    </tr>\n",
       "    <tr>\n",
       "      <th>3</th>\n",
       "      <td>497447</td>\n",
       "      <td>6551</td>\n",
       "      <td>27-Aug-06</td>\n",
       "      <td>0</td>\n",
       "      <td>0</td>\n",
       "      <td>0</td>\n",
       "      <td>0</td>\n",
       "      <td>0</td>\n",
       "    </tr>\n",
       "    <tr>\n",
       "      <th>4</th>\n",
       "      <td>496446</td>\n",
       "      <td>6533</td>\n",
       "      <td>19-Sep-06</td>\n",
       "      <td>0</td>\n",
       "      <td>0</td>\n",
       "      <td>0</td>\n",
       "      <td>0</td>\n",
       "      <td>0</td>\n",
       "    </tr>\n",
       "  </tbody>\n",
       "</table>\n",
       "</div>"
      ],
      "text/plain": [
       "   Patient_ID  Health_Camp_ID Registration_Date  Var1  Var2  Var3  Var4  Var5\n",
       "0      505701            6548         21-May-06     1     0     0     0     2\n",
       "1      500633            6584         02-Jun-06     0     0     0     0     0\n",
       "2      506945            6582         10-Aug-06     0     0     0     0     0\n",
       "3      497447            6551         27-Aug-06     0     0     0     0     0\n",
       "4      496446            6533         19-Sep-06     0     0     0     0     0"
      ]
     },
     "execution_count": 500,
     "metadata": {},
     "output_type": "execute_result"
    }
   ],
   "source": [
    "test.head()"
   ]
  },
  {
   "cell_type": "code",
   "execution_count": 501,
   "metadata": {},
   "outputs": [
    {
     "data": {
      "text/plain": [
       "(75278, 8)"
      ]
     },
     "execution_count": 501,
     "metadata": {},
     "output_type": "execute_result"
    }
   ],
   "source": [
    "train.shape"
   ]
  },
  {
   "cell_type": "code",
   "execution_count": 502,
   "metadata": {},
   "outputs": [
    {
     "data": {
      "text/plain": [
       "(35249, 8)"
      ]
     },
     "execution_count": 502,
     "metadata": {},
     "output_type": "execute_result"
    }
   ],
   "source": [
    "test.shape"
   ]
  },
  {
   "cell_type": "code",
   "execution_count": 503,
   "metadata": {},
   "outputs": [
    {
     "name": "stdout",
     "output_type": "stream",
     "text": [
      "<class 'pandas.core.frame.DataFrame'>\n",
      "RangeIndex: 6218 entries, 0 to 6217\n",
      "Data columns (total 5 columns):\n",
      "Patient_ID        6218 non-null int64\n",
      "Health_Camp_ID    6218 non-null int64\n",
      "Donation          6218 non-null int64\n",
      "Health_Score      6218 non-null float64\n",
      "Unnamed: 4        0 non-null float64\n",
      "dtypes: float64(2), int64(3)\n",
      "memory usage: 243.0 KB\n"
     ]
    }
   ],
   "source": [
    "First_Health_Camp_Attended.info()"
   ]
  },
  {
   "cell_type": "code",
   "execution_count": 504,
   "metadata": {},
   "outputs": [
    {
     "name": "stdout",
     "output_type": "stream",
     "text": [
      "<class 'pandas.core.frame.DataFrame'>\n",
      "RangeIndex: 7819 entries, 0 to 7818\n",
      "Data columns (total 3 columns):\n",
      "Patient_ID        7819 non-null int64\n",
      "Health_Camp_ID    7819 non-null int64\n",
      "Health Score      7819 non-null float64\n",
      "dtypes: float64(1), int64(2)\n",
      "memory usage: 183.3 KB\n"
     ]
    }
   ],
   "source": [
    "Second_Health_Camp_Attended.info()"
   ]
  },
  {
   "cell_type": "code",
   "execution_count": 505,
   "metadata": {},
   "outputs": [
    {
     "name": "stdout",
     "output_type": "stream",
     "text": [
      "<class 'pandas.core.frame.DataFrame'>\n",
      "RangeIndex: 6515 entries, 0 to 6514\n",
      "Data columns (total 4 columns):\n",
      "Patient_ID                   6515 non-null int64\n",
      "Health_Camp_ID               6515 non-null int64\n",
      "Number_of_stall_visited      6515 non-null int64\n",
      "Last_Stall_Visited_Number    6515 non-null int64\n",
      "dtypes: int64(4)\n",
      "memory usage: 203.7 KB\n"
     ]
    }
   ],
   "source": [
    "Third_Health_Camp_Attended.info()"
   ]
  },
  {
   "cell_type": "markdown",
   "metadata": {},
   "source": [
    "### Modelling train set Outcome "
   ]
  },
  {
   "cell_type": "code",
   "execution_count": 506,
   "metadata": {},
   "outputs": [],
   "source": [
    "First_Health_Camp_Attended.drop('Unnamed: 4', axis = 1, inplace = True)"
   ]
  },
  {
   "cell_type": "code",
   "execution_count": 507,
   "metadata": {},
   "outputs": [
    {
     "data": {
      "text/plain": [
       "1    1822\n",
       "2    1243\n",
       "3    1145\n",
       "5    1034\n",
       "4     701\n",
       "6     536\n",
       "0      18\n",
       "7      16\n",
       "Name: Number_of_stall_visited, dtype: int64"
      ]
     },
     "execution_count": 507,
     "metadata": {},
     "output_type": "execute_result"
    }
   ],
   "source": [
    "Third_Health_Camp_Attended['Number_of_stall_visited'].value_counts()"
   ]
  },
  {
   "cell_type": "code",
   "execution_count": 508,
   "metadata": {},
   "outputs": [],
   "source": [
    "First_Health_Camp_Attended['Outcome'] = 1\n",
    "Second_Health_Camp_Attended['Outcome'] = 1\n",
    "Third_Health_Camp_Attended['Outcome'] = Third_Health_Camp_Attended['Number_of_stall_visited'].apply(lambda x: 1 if x > 0 else 0)"
   ]
  },
  {
   "cell_type": "code",
   "execution_count": 509,
   "metadata": {},
   "outputs": [
    {
     "data": {
      "text/plain": [
       "1    6497\n",
       "0      18\n",
       "Name: Outcome, dtype: int64"
      ]
     },
     "execution_count": 509,
     "metadata": {},
     "output_type": "execute_result"
    }
   ],
   "source": [
    "Third_Health_Camp_Attended['Outcome'].value_counts()"
   ]
  },
  {
   "cell_type": "markdown",
   "metadata": {},
   "source": [
    "### Joining Data Frames for resultant train test set"
   ]
  },
  {
   "cell_type": "code",
   "execution_count": 510,
   "metadata": {},
   "outputs": [],
   "source": [
    "# merge health camp data\n",
    "hc_outcomes_combined = pd.concat([First_Health_Camp_Attended[['Patient_ID', 'Health_Camp_ID', 'Outcome']],\n",
    "                                  Second_Health_Camp_Attended[['Patient_ID', 'Health_Camp_ID', 'Outcome']],\n",
    "                                  Third_Health_Camp_Attended[['Patient_ID', 'Health_Camp_ID', 'Outcome']]], ignore_index=True)\n",
    "data_df = pd.merge(train,\n",
    "                   hc_outcomes_combined,\n",
    "                   how='left',\n",
    "                   on=['Patient_ID', 'Health_Camp_ID'])"
   ]
  },
  {
   "cell_type": "code",
   "execution_count": 511,
   "metadata": {},
   "outputs": [
    {
     "data": {
      "text/plain": [
       "1.0    20534\n",
       "0.0       18\n",
       "Name: Outcome, dtype: int64"
      ]
     },
     "execution_count": 511,
     "metadata": {},
     "output_type": "execute_result"
    }
   ],
   "source": [
    "data_df['Outcome'].value_counts()"
   ]
  },
  {
   "cell_type": "code",
   "execution_count": 512,
   "metadata": {},
   "outputs": [
    {
     "data": {
      "text/plain": [
       "((75278, 19), (35249, 18))"
      ]
     },
     "execution_count": 512,
     "metadata": {},
     "output_type": "execute_result"
    }
   ],
   "source": [
    "# merge patient data with train\n",
    "data_df = pd.merge(data_df,\n",
    "                   Patient_Profile,\n",
    "                   how='left',\n",
    "                   on='Patient_ID')\n",
    "# merge patient data with test\n",
    "test_df = pd.merge(test,\n",
    "                   Patient_Profile,\n",
    "                   how='left',\n",
    "                   on='Patient_ID')\n",
    "\n",
    "data_df.shape, test_df.shape"
   ]
  },
  {
   "cell_type": "code",
   "execution_count": 513,
   "metadata": {},
   "outputs": [
    {
     "data": {
      "text/plain": [
       "((75278, 24), (35249, 23))"
      ]
     },
     "execution_count": 513,
     "metadata": {},
     "output_type": "execute_result"
    }
   ],
   "source": [
    "# merge health camp details to train data\n",
    "data_df = pd.merge(data_df,\n",
    "                   Health_Camp_Detail,\n",
    "                   how='left',\n",
    "                   on='Health_Camp_ID')\n",
    "# merge health camp data to test set\n",
    "test_df = pd.merge(test_df,\n",
    "                   Health_Camp_Detail,\n",
    "                   how='left',\n",
    "                   on='Health_Camp_ID')\n",
    "data_df.shape, test_df.shape"
   ]
  },
  {
   "cell_type": "code",
   "execution_count": 514,
   "metadata": {
    "scrolled": false
   },
   "outputs": [
    {
     "name": "stdout",
     "output_type": "stream",
     "text": [
      "<class 'pandas.core.frame.DataFrame'>\n",
      "Int64Index: 75278 entries, 0 to 75277\n",
      "Data columns (total 24 columns):\n",
      "Patient_ID           75278 non-null int64\n",
      "Health_Camp_ID       75278 non-null int64\n",
      "Registration_Date    74944 non-null object\n",
      "Var1                 75278 non-null int64\n",
      "Var2                 75278 non-null int64\n",
      "Var3                 75278 non-null int64\n",
      "Var4                 75278 non-null int64\n",
      "Var5                 75278 non-null int64\n",
      "Outcome              20552 non-null float64\n",
      "Online_Follower      75278 non-null int64\n",
      "LinkedIn_Shared      75278 non-null int64\n",
      "Twitter_Shared       75278 non-null int64\n",
      "Facebook_Shared      75278 non-null int64\n",
      "Income               75278 non-null object\n",
      "Education_Score      75278 non-null object\n",
      "Age                  75278 non-null object\n",
      "First_Interaction    75278 non-null object\n",
      "City_Type            42070 non-null object\n",
      "Employer_Category    15203 non-null object\n",
      "Camp_Start_Date      75278 non-null object\n",
      "Camp_End_Date        75278 non-null object\n",
      "Category1            75278 non-null object\n",
      "Category2            75278 non-null object\n",
      "Category3            75278 non-null int64\n",
      "dtypes: float64(1), int64(12), object(11)\n",
      "memory usage: 14.4+ MB\n"
     ]
    }
   ],
   "source": [
    "data_df.info()"
   ]
  },
  {
   "cell_type": "markdown",
   "metadata": {},
   "source": [
    "Registration, Outcome, City_Type, Employer_Catergory have null fields"
   ]
  },
  {
   "cell_type": "code",
   "execution_count": 515,
   "metadata": {},
   "outputs": [
    {
     "name": "stdout",
     "output_type": "stream",
     "text": [
      "<class 'pandas.core.frame.DataFrame'>\n",
      "Int64Index: 35249 entries, 0 to 35248\n",
      "Data columns (total 23 columns):\n",
      "Patient_ID           35249 non-null int64\n",
      "Health_Camp_ID       35249 non-null int64\n",
      "Registration_Date    35249 non-null object\n",
      "Var1                 35249 non-null int64\n",
      "Var2                 35249 non-null int64\n",
      "Var3                 35249 non-null int64\n",
      "Var4                 35249 non-null int64\n",
      "Var5                 35249 non-null int64\n",
      "Online_Follower      35249 non-null int64\n",
      "LinkedIn_Shared      35249 non-null int64\n",
      "Twitter_Shared       35249 non-null int64\n",
      "Facebook_Shared      35249 non-null int64\n",
      "Income               35249 non-null object\n",
      "Education_Score      35249 non-null object\n",
      "Age                  35249 non-null object\n",
      "First_Interaction    35249 non-null object\n",
      "City_Type            21855 non-null object\n",
      "Employer_Category    4361 non-null object\n",
      "Camp_Start_Date      35249 non-null object\n",
      "Camp_End_Date        35249 non-null object\n",
      "Category1            35249 non-null object\n",
      "Category2            35249 non-null object\n",
      "Category3            35249 non-null int64\n",
      "dtypes: int64(12), object(11)\n",
      "memory usage: 6.5+ MB\n"
     ]
    }
   ],
   "source": [
    "test_df.info()"
   ]
  },
  {
   "cell_type": "markdown",
   "metadata": {},
   "source": [
    "City_Type and Employer_Category have null fields"
   ]
  },
  {
   "cell_type": "markdown",
   "metadata": {},
   "source": [
    "### Missing Value Imputation"
   ]
  },
  {
   "cell_type": "code",
   "execution_count": 516,
   "metadata": {},
   "outputs": [],
   "source": [
    "data_df['Outcome'].fillna(0, inplace = True)"
   ]
  },
  {
   "cell_type": "code",
   "execution_count": 517,
   "metadata": {},
   "outputs": [
    {
     "data": {
      "text/plain": [
       "15"
      ]
     },
     "execution_count": 517,
     "metadata": {},
     "output_type": "execute_result"
    }
   ],
   "source": [
    "x = data_df[data_df['Registration_Date'].isnull()]['Health_Camp_ID'].unique()\n",
    "len(x)"
   ]
  },
  {
   "cell_type": "code",
   "execution_count": 518,
   "metadata": {},
   "outputs": [
    {
     "data": {
      "text/html": [
       "<div>\n",
       "<style scoped>\n",
       "    .dataframe tbody tr th:only-of-type {\n",
       "        vertical-align: middle;\n",
       "    }\n",
       "\n",
       "    .dataframe tbody tr th {\n",
       "        vertical-align: top;\n",
       "    }\n",
       "\n",
       "    .dataframe thead th {\n",
       "        text-align: right;\n",
       "    }\n",
       "</style>\n",
       "<table border=\"1\" class=\"dataframe\">\n",
       "  <thead>\n",
       "    <tr style=\"text-align: right;\">\n",
       "      <th></th>\n",
       "      <th>Health_Camp_ID</th>\n",
       "      <th>Camp_Start_Date</th>\n",
       "      <th>Camp_End_Date</th>\n",
       "      <th>Category1</th>\n",
       "      <th>Category2</th>\n",
       "      <th>Category3</th>\n",
       "    </tr>\n",
       "  </thead>\n",
       "  <tbody>\n",
       "    <tr>\n",
       "      <th>0</th>\n",
       "      <td>6560</td>\n",
       "      <td>16-Aug-03</td>\n",
       "      <td>20-Aug-03</td>\n",
       "      <td>First</td>\n",
       "      <td>B</td>\n",
       "      <td>2</td>\n",
       "    </tr>\n",
       "    <tr>\n",
       "      <th>3</th>\n",
       "      <td>6585</td>\n",
       "      <td>22-Nov-03</td>\n",
       "      <td>05-Dec-03</td>\n",
       "      <td>First</td>\n",
       "      <td>E</td>\n",
       "      <td>2</td>\n",
       "    </tr>\n",
       "    <tr>\n",
       "      <th>5</th>\n",
       "      <td>6581</td>\n",
       "      <td>07-Dec-03</td>\n",
       "      <td>13-Jun-04</td>\n",
       "      <td>First</td>\n",
       "      <td>F</td>\n",
       "      <td>2</td>\n",
       "    </tr>\n",
       "    <tr>\n",
       "      <th>18</th>\n",
       "      <td>6586</td>\n",
       "      <td>01-Oct-04</td>\n",
       "      <td>18-Oct-04</td>\n",
       "      <td>First</td>\n",
       "      <td>E</td>\n",
       "      <td>2</td>\n",
       "    </tr>\n",
       "    <tr>\n",
       "      <th>19</th>\n",
       "      <td>6540</td>\n",
       "      <td>01-Nov-04</td>\n",
       "      <td>04-Nov-04</td>\n",
       "      <td>First</td>\n",
       "      <td>E</td>\n",
       "      <td>2</td>\n",
       "    </tr>\n",
       "    <tr>\n",
       "      <th>20</th>\n",
       "      <td>6562</td>\n",
       "      <td>24-Nov-04</td>\n",
       "      <td>02-Jun-05</td>\n",
       "      <td>First</td>\n",
       "      <td>F</td>\n",
       "      <td>2</td>\n",
       "    </tr>\n",
       "    <tr>\n",
       "      <th>22</th>\n",
       "      <td>6580</td>\n",
       "      <td>22-Dec-04</td>\n",
       "      <td>06-Jan-05</td>\n",
       "      <td>First</td>\n",
       "      <td>E</td>\n",
       "      <td>2</td>\n",
       "    </tr>\n",
       "    <tr>\n",
       "      <th>24</th>\n",
       "      <td>6536</td>\n",
       "      <td>15-Feb-05</td>\n",
       "      <td>18-Feb-05</td>\n",
       "      <td>Second</td>\n",
       "      <td>D</td>\n",
       "      <td>2</td>\n",
       "    </tr>\n",
       "    <tr>\n",
       "      <th>28</th>\n",
       "      <td>6524</td>\n",
       "      <td>13-May-05</td>\n",
       "      <td>21-May-05</td>\n",
       "      <td>First</td>\n",
       "      <td>C</td>\n",
       "      <td>2</td>\n",
       "    </tr>\n",
       "    <tr>\n",
       "      <th>30</th>\n",
       "      <td>6554</td>\n",
       "      <td>19-Jun-05</td>\n",
       "      <td>01-Jul-05</td>\n",
       "      <td>First</td>\n",
       "      <td>B</td>\n",
       "      <td>2</td>\n",
       "    </tr>\n",
       "    <tr>\n",
       "      <th>31</th>\n",
       "      <td>6549</td>\n",
       "      <td>23-Jun-05</td>\n",
       "      <td>27-Jun-05</td>\n",
       "      <td>Second</td>\n",
       "      <td>A</td>\n",
       "      <td>2</td>\n",
       "    </tr>\n",
       "    <tr>\n",
       "      <th>32</th>\n",
       "      <td>6570</td>\n",
       "      <td>09-Jul-05</td>\n",
       "      <td>22-Jul-05</td>\n",
       "      <td>First</td>\n",
       "      <td>E</td>\n",
       "      <td>2</td>\n",
       "    </tr>\n",
       "    <tr>\n",
       "      <th>35</th>\n",
       "      <td>6555</td>\n",
       "      <td>15-Sep-05</td>\n",
       "      <td>19-Sep-05</td>\n",
       "      <td>Second</td>\n",
       "      <td>A</td>\n",
       "      <td>2</td>\n",
       "    </tr>\n",
       "    <tr>\n",
       "      <th>38</th>\n",
       "      <td>6571</td>\n",
       "      <td>09-Oct-05</td>\n",
       "      <td>12-Oct-05</td>\n",
       "      <td>First</td>\n",
       "      <td>E</td>\n",
       "      <td>2</td>\n",
       "    </tr>\n",
       "    <tr>\n",
       "      <th>42</th>\n",
       "      <td>6528</td>\n",
       "      <td>10-Feb-06</td>\n",
       "      <td>25-Apr-06</td>\n",
       "      <td>Third</td>\n",
       "      <td>G</td>\n",
       "      <td>2</td>\n",
       "    </tr>\n",
       "  </tbody>\n",
       "</table>\n",
       "</div>"
      ],
      "text/plain": [
       "    Health_Camp_ID Camp_Start_Date Camp_End_Date Category1 Category2  \\\n",
       "0             6560       16-Aug-03     20-Aug-03     First         B   \n",
       "3             6585       22-Nov-03     05-Dec-03     First         E   \n",
       "5             6581       07-Dec-03     13-Jun-04     First         F   \n",
       "18            6586       01-Oct-04     18-Oct-04     First         E   \n",
       "19            6540       01-Nov-04     04-Nov-04     First         E   \n",
       "20            6562       24-Nov-04     02-Jun-05     First         F   \n",
       "22            6580       22-Dec-04     06-Jan-05     First         E   \n",
       "24            6536       15-Feb-05     18-Feb-05    Second         D   \n",
       "28            6524       13-May-05     21-May-05     First         C   \n",
       "30            6554       19-Jun-05     01-Jul-05     First         B   \n",
       "31            6549       23-Jun-05     27-Jun-05    Second         A   \n",
       "32            6570       09-Jul-05     22-Jul-05     First         E   \n",
       "35            6555       15-Sep-05     19-Sep-05    Second         A   \n",
       "38            6571       09-Oct-05     12-Oct-05     First         E   \n",
       "42            6528       10-Feb-06     25-Apr-06     Third         G   \n",
       "\n",
       "    Category3  \n",
       "0           2  \n",
       "3           2  \n",
       "5           2  \n",
       "18          2  \n",
       "19          2  \n",
       "20          2  \n",
       "22          2  \n",
       "24          2  \n",
       "28          2  \n",
       "30          2  \n",
       "31          2  \n",
       "32          2  \n",
       "35          2  \n",
       "38          2  \n",
       "42          2  "
      ]
     },
     "execution_count": 518,
     "metadata": {},
     "output_type": "execute_result"
    }
   ],
   "source": [
    "Health_Camp_Detail[Health_Camp_Detail['Health_Camp_ID'].isin(x)]"
   ]
  },
  {
   "cell_type": "code",
   "execution_count": 519,
   "metadata": {},
   "outputs": [],
   "source": [
    "train_reg_date = train[['Health_Camp_ID', 'Registration_Date']].groupby(['Health_Camp_ID']).agg(pd.Series.mode)"
   ]
  },
  {
   "cell_type": "code",
   "execution_count": 520,
   "metadata": {},
   "outputs": [
    {
     "data": {
      "text/html": [
       "<div>\n",
       "<style scoped>\n",
       "    .dataframe tbody tr th:only-of-type {\n",
       "        vertical-align: middle;\n",
       "    }\n",
       "\n",
       "    .dataframe tbody tr th {\n",
       "        vertical-align: top;\n",
       "    }\n",
       "\n",
       "    .dataframe thead th {\n",
       "        text-align: right;\n",
       "    }\n",
       "</style>\n",
       "<table border=\"1\" class=\"dataframe\">\n",
       "  <thead>\n",
       "    <tr style=\"text-align: right;\">\n",
       "      <th></th>\n",
       "      <th>Registration_Date</th>\n",
       "    </tr>\n",
       "    <tr>\n",
       "      <th>Health_Camp_ID</th>\n",
       "      <th></th>\n",
       "    </tr>\n",
       "  </thead>\n",
       "  <tbody>\n",
       "    <tr>\n",
       "      <th>6523</th>\n",
       "      <td>15-Jun-05</td>\n",
       "    </tr>\n",
       "    <tr>\n",
       "      <th>6524</th>\n",
       "      <td>18-May-05</td>\n",
       "    </tr>\n",
       "    <tr>\n",
       "      <th>6526</th>\n",
       "      <td>05-Jan-05</td>\n",
       "    </tr>\n",
       "    <tr>\n",
       "      <th>6527</th>\n",
       "      <td>08-May-05</td>\n",
       "    </tr>\n",
       "    <tr>\n",
       "      <th>6528</th>\n",
       "      <td>17-Apr-06</td>\n",
       "    </tr>\n",
       "    <tr>\n",
       "      <th>6529</th>\n",
       "      <td>28-Mar-06</td>\n",
       "    </tr>\n",
       "    <tr>\n",
       "      <th>6530</th>\n",
       "      <td>19-Oct-03</td>\n",
       "    </tr>\n",
       "    <tr>\n",
       "      <th>6531</th>\n",
       "      <td>11-Dec-04</td>\n",
       "    </tr>\n",
       "    <tr>\n",
       "      <th>6532</th>\n",
       "      <td>24-Feb-05</td>\n",
       "    </tr>\n",
       "    <tr>\n",
       "      <th>6534</th>\n",
       "      <td>28-Mar-06</td>\n",
       "    </tr>\n",
       "    <tr>\n",
       "      <th>6535</th>\n",
       "      <td>03-Feb-04</td>\n",
       "    </tr>\n",
       "    <tr>\n",
       "      <th>6536</th>\n",
       "      <td>17-Feb-05</td>\n",
       "    </tr>\n",
       "    <tr>\n",
       "      <th>6537</th>\n",
       "      <td>15-Oct-05</td>\n",
       "    </tr>\n",
       "    <tr>\n",
       "      <th>6538</th>\n",
       "      <td>11-Sep-04</td>\n",
       "    </tr>\n",
       "    <tr>\n",
       "      <th>6539</th>\n",
       "      <td>20-Nov-04</td>\n",
       "    </tr>\n",
       "    <tr>\n",
       "      <th>6540</th>\n",
       "      <td>03-Nov-04</td>\n",
       "    </tr>\n",
       "    <tr>\n",
       "      <th>6541</th>\n",
       "      <td>13-Dec-05</td>\n",
       "    </tr>\n",
       "    <tr>\n",
       "      <th>6542</th>\n",
       "      <td>24-Feb-05</td>\n",
       "    </tr>\n",
       "    <tr>\n",
       "      <th>6543</th>\n",
       "      <td>13-Jun-06</td>\n",
       "    </tr>\n",
       "    <tr>\n",
       "      <th>6544</th>\n",
       "      <td>31-Oct-03</td>\n",
       "    </tr>\n",
       "    <tr>\n",
       "      <th>6546</th>\n",
       "      <td>10-Jan-04</td>\n",
       "    </tr>\n",
       "    <tr>\n",
       "      <th>6549</th>\n",
       "      <td>26-Jun-05</td>\n",
       "    </tr>\n",
       "    <tr>\n",
       "      <th>6552</th>\n",
       "      <td>22-May-04</td>\n",
       "    </tr>\n",
       "    <tr>\n",
       "      <th>6553</th>\n",
       "      <td>01-May-04</td>\n",
       "    </tr>\n",
       "    <tr>\n",
       "      <th>6554</th>\n",
       "      <td>24-May-05</td>\n",
       "    </tr>\n",
       "    <tr>\n",
       "      <th>6555</th>\n",
       "      <td>17-Sep-05</td>\n",
       "    </tr>\n",
       "    <tr>\n",
       "      <th>6557</th>\n",
       "      <td>07-Jan-04</td>\n",
       "    </tr>\n",
       "    <tr>\n",
       "      <th>6558</th>\n",
       "      <td>24-Aug-04</td>\n",
       "    </tr>\n",
       "    <tr>\n",
       "      <th>6560</th>\n",
       "      <td>[]</td>\n",
       "    </tr>\n",
       "    <tr>\n",
       "      <th>6561</th>\n",
       "      <td>04-Dec-03</td>\n",
       "    </tr>\n",
       "    <tr>\n",
       "      <th>6562</th>\n",
       "      <td>02-Jan-05</td>\n",
       "    </tr>\n",
       "    <tr>\n",
       "      <th>6563</th>\n",
       "      <td>11-Sep-04</td>\n",
       "    </tr>\n",
       "    <tr>\n",
       "      <th>6564</th>\n",
       "      <td>16-Dec-03</td>\n",
       "    </tr>\n",
       "    <tr>\n",
       "      <th>6565</th>\n",
       "      <td>01-May-04</td>\n",
       "    </tr>\n",
       "    <tr>\n",
       "      <th>6569</th>\n",
       "      <td>18-Sep-04</td>\n",
       "    </tr>\n",
       "    <tr>\n",
       "      <th>6570</th>\n",
       "      <td>14-May-05</td>\n",
       "    </tr>\n",
       "    <tr>\n",
       "      <th>6571</th>\n",
       "      <td>11-Oct-05</td>\n",
       "    </tr>\n",
       "    <tr>\n",
       "      <th>6575</th>\n",
       "      <td>12-Oct-05</td>\n",
       "    </tr>\n",
       "    <tr>\n",
       "      <th>6578</th>\n",
       "      <td>22-Aug-05</td>\n",
       "    </tr>\n",
       "    <tr>\n",
       "      <th>6580</th>\n",
       "      <td>24-Dec-04</td>\n",
       "    </tr>\n",
       "    <tr>\n",
       "      <th>6581</th>\n",
       "      <td>01-Feb-04</td>\n",
       "    </tr>\n",
       "    <tr>\n",
       "      <th>6585</th>\n",
       "      <td>29-Oct-03</td>\n",
       "    </tr>\n",
       "    <tr>\n",
       "      <th>6586</th>\n",
       "      <td>04-Oct-04</td>\n",
       "    </tr>\n",
       "    <tr>\n",
       "      <th>6587</th>\n",
       "      <td>03-Aug-05</td>\n",
       "    </tr>\n",
       "  </tbody>\n",
       "</table>\n",
       "</div>"
      ],
      "text/plain": [
       "               Registration_Date\n",
       "Health_Camp_ID                  \n",
       "6523                   15-Jun-05\n",
       "6524                   18-May-05\n",
       "6526                   05-Jan-05\n",
       "6527                   08-May-05\n",
       "6528                   17-Apr-06\n",
       "6529                   28-Mar-06\n",
       "6530                   19-Oct-03\n",
       "6531                   11-Dec-04\n",
       "6532                   24-Feb-05\n",
       "6534                   28-Mar-06\n",
       "6535                   03-Feb-04\n",
       "6536                   17-Feb-05\n",
       "6537                   15-Oct-05\n",
       "6538                   11-Sep-04\n",
       "6539                   20-Nov-04\n",
       "6540                   03-Nov-04\n",
       "6541                   13-Dec-05\n",
       "6542                   24-Feb-05\n",
       "6543                   13-Jun-06\n",
       "6544                   31-Oct-03\n",
       "6546                   10-Jan-04\n",
       "6549                   26-Jun-05\n",
       "6552                   22-May-04\n",
       "6553                   01-May-04\n",
       "6554                   24-May-05\n",
       "6555                   17-Sep-05\n",
       "6557                   07-Jan-04\n",
       "6558                   24-Aug-04\n",
       "6560                          []\n",
       "6561                   04-Dec-03\n",
       "6562                   02-Jan-05\n",
       "6563                   11-Sep-04\n",
       "6564                   16-Dec-03\n",
       "6565                   01-May-04\n",
       "6569                   18-Sep-04\n",
       "6570                   14-May-05\n",
       "6571                   11-Oct-05\n",
       "6575                   12-Oct-05\n",
       "6578                   22-Aug-05\n",
       "6580                   24-Dec-04\n",
       "6581                   01-Feb-04\n",
       "6585                   29-Oct-03\n",
       "6586                   04-Oct-04\n",
       "6587                   03-Aug-05"
      ]
     },
     "execution_count": 520,
     "metadata": {},
     "output_type": "execute_result"
    }
   ],
   "source": [
    "train_reg_date"
   ]
  },
  {
   "cell_type": "code",
   "execution_count": 521,
   "metadata": {},
   "outputs": [],
   "source": [
    "train_reg_date.loc[6560] = '16-Aug-03'"
   ]
  },
  {
   "cell_type": "code",
   "execution_count": 522,
   "metadata": {},
   "outputs": [],
   "source": [
    "def filldate(x):\n",
    "    return train_reg_date.loc[x['Health_Camp_ID']]"
   ]
  },
  {
   "cell_type": "code",
   "execution_count": 523,
   "metadata": {},
   "outputs": [],
   "source": [
    "temp = data_df[data_df['Registration_Date'].isnull()].apply(filldate, axis=1)"
   ]
  },
  {
   "cell_type": "code",
   "execution_count": 524,
   "metadata": {},
   "outputs": [],
   "source": [
    "data_df['Registration_Date'].fillna(temp['Registration_Date'], inplace=True)"
   ]
  },
  {
   "cell_type": "code",
   "execution_count": 525,
   "metadata": {},
   "outputs": [
    {
     "data": {
      "text/plain": [
       "0"
      ]
     },
     "execution_count": 525,
     "metadata": {},
     "output_type": "execute_result"
    }
   ],
   "source": [
    "data_df['Registration_Date'].isnull().sum()"
   ]
  },
  {
   "cell_type": "code",
   "execution_count": 526,
   "metadata": {},
   "outputs": [],
   "source": [
    "data_df['Online_activity'] = data_df['Online_Follower'] +  data_df['LinkedIn_Shared'] + \\\n",
    "       data_df['Twitter_Shared'] + data_df['Facebook_Shared']\n",
    "test_df['Online_activity'] = test_df['Online_Follower'] +  test_df['LinkedIn_Shared'] + \\\n",
    "       test_df['Twitter_Shared'] + test_df['Facebook_Shared']"
   ]
  },
  {
   "cell_type": "code",
   "execution_count": 527,
   "metadata": {},
   "outputs": [],
   "source": [
    "data_df['Income'] = data_df['Income'].map({'None' : 0,\n",
    "              '0' : 1,\n",
    "              '1' : 2,\n",
    "              '2' : 3,\n",
    "              '3' : 4,\n",
    "              '4' : 5,\n",
    "              '5' : 6,\n",
    "              '6' : 7})\n",
    "\n",
    "test_df['Income'] = test_df['Income'].map({'None' : 0,\n",
    "              '0' : 1,\n",
    "              '1' : 2,\n",
    "              '2' : 3,\n",
    "              '3' : 4,\n",
    "              '4' : 5,\n",
    "              '5' : 6,\n",
    "              '6' : 7})"
   ]
  },
  {
   "cell_type": "code",
   "execution_count": 528,
   "metadata": {},
   "outputs": [],
   "source": [
    "mean_education = data_df[data_df['Education_Score'] != 'None']['Education_Score'].astype('float64').mean()\n",
    "data_df['Education_Score'].replace('None', str(mean_education), inplace=True)\n",
    "data_df['Education_Score'] = data_df['Education_Score'].astype('float64')\n",
    "\n",
    "mean_Age = data_df[data_df['Age'] != 'None']['Age'].astype('float64').mean()\n",
    "data_df['Age'].replace('None', str(mean_Age), inplace=True)\n",
    "data_df['Age'] = data_df['Age'].astype('float64')"
   ]
  },
  {
   "cell_type": "code",
   "execution_count": 529,
   "metadata": {},
   "outputs": [],
   "source": [
    "mean_Age = test_df[test_df['Age'] != 'None']['Age'].astype('float64').mean()\n",
    "test_df['Age'].replace('None', str(mean_Age), inplace=True)\n",
    "test_df['Age'] = test_df['Age'].astype('float64')\n",
    "\n",
    "mean_education = test_df[test_df['Education_Score'] != 'None']['Education_Score'].astype('float64').mean()\n",
    "test_df['Education_Score'].replace('None', str(mean_education), inplace=True)\n",
    "test_df['Education_Score'] = test_df['Education_Score'].astype('float64')"
   ]
  },
  {
   "cell_type": "code",
   "execution_count": 530,
   "metadata": {},
   "outputs": [],
   "source": [
    "data_df['City_Type'].fillna(data_df['City_Type'].mode()[0], inplace = True)\n",
    "test_df['City_Type'].fillna(test_df['City_Type'].mode()[0], inplace = True)"
   ]
  },
  {
   "cell_type": "code",
   "execution_count": 531,
   "metadata": {},
   "outputs": [],
   "source": [
    "data_df['City_Type'] = data_df['City_Type'].map({'A':1,'B':2,'C':3,'D':4,\n",
    "                          'E':5,'F':6,'G':7,'H':8, 'I':9})\n",
    "\n",
    "test_df['City_Type'] = test_df['City_Type'].map({'A':1,'B':2,'C':3,'D':4,\n",
    "                          'E':5,'F':6,'G':7,'H':8, 'I':9})"
   ]
  },
  {
   "cell_type": "code",
   "execution_count": 532,
   "metadata": {},
   "outputs": [],
   "source": [
    "data_df['Employer_Category'].fillna(data_df['Employer_Category'].mode()[0], inplace = True)\n",
    "test_df['Employer_Category'].fillna(test_df['Employer_Category'].mode()[0], inplace = True)"
   ]
  },
  {
   "cell_type": "code",
   "execution_count": 533,
   "metadata": {},
   "outputs": [],
   "source": [
    "data_df['Category1'] = data_df['Category1'].map({'First' : 0,\n",
    "              'Second' : 1,\n",
    "              'Third' : 2})\n",
    "\n",
    "test_df['Category1'] = test_df['Category1'].map({'First' : 0,\n",
    "              'Second' : 1,\n",
    "              'Third' : 2})"
   ]
  },
  {
   "cell_type": "code",
   "execution_count": 534,
   "metadata": {},
   "outputs": [],
   "source": [
    "data_df['Category2'] = data_df['Category2'].map({'A':1,'B':2,'C':3,'D':4,\n",
    "                          'E':5,'F':6,'G':7})\n",
    "\n",
    "test_df['Category2'] = test_df['Category2'].map({'A':1,'B':2,'C':3,'D':4,\n",
    "                          'E':5,'F':6,'G':7})"
   ]
  },
  {
   "cell_type": "code",
   "execution_count": 535,
   "metadata": {},
   "outputs": [
    {
     "data": {
      "image/png": "[encoded data removed]",
      "text/plain": [
       "<Figure size 1800x720 with 2 Axes>"
      ]
     },
     "metadata": {
      "needs_background": "light"
     },
     "output_type": "display_data"
    }
   ],
   "source": [
    "plt.figure(figsize = (25,10))\n",
    "sns.heatmap(data_df.corr(), annot = True)\n",
    "plt.show()"
   ]
  },
  {
   "cell_type": "code",
   "execution_count": 536,
   "metadata": {},
   "outputs": [
    {
     "data": {
      "text/plain": [
       "1    12669\n",
       "0    11525\n",
       "2    11055\n",
       "Name: Category1, dtype: int64"
      ]
     },
     "execution_count": 536,
     "metadata": {},
     "output_type": "execute_result"
    }
   ],
   "source": [
    "test_df['Category1'].value_counts()"
   ]
  },
  {
   "cell_type": "code",
   "execution_count": 537,
   "metadata": {},
   "outputs": [],
   "source": [
    "# data = data_df.copy()\n",
    "# test_data = test_df.copy()"
   ]
  },
  {
   "cell_type": "code",
   "execution_count": 538,
   "metadata": {},
   "outputs": [],
   "source": [
    "data_df = data\n",
    "test_df = test_data"
   ]
  },
  {
   "cell_type": "markdown",
   "metadata": {},
   "source": [
    "### Features Encoding and Normalizing"
   ]
  },
  {
   "cell_type": "code",
   "execution_count": 552,
   "metadata": {},
   "outputs": [],
   "source": [
    "from sklearn.preprocessing import LabelEncoder\n",
    "from sklearn.preprocessing import OneHotEncoder\n",
    "from sklearn.preprocessing import OrdinalEncoder\n",
    "\n",
    "col = ['Category1', 'Category2', 'Category3']\n",
    "lbl = LabelEncoder()\n",
    "for c in col:\n",
    "    data_df[c] = lbl.fit_transform(data_df[c])\n",
    "    dumy = pd.get_dummies(data_df[c], prefix = c, sparse = False)\n",
    "    data_df = pd.concat([data_df, dumy], axis = 1)\n",
    "    \n",
    "col = ['Category1', 'Category2', 'Category3']\n",
    "lbl = LabelEncoder()\n",
    "for c in col:\n",
    "    test_df[c] = lbl.fit_transform(test_df[c])\n",
    "    dumy = pd.get_dummies(test_df[c], prefix = c, sparse = False)\n",
    "    test_df = pd.concat([test_df, dumy], axis = 1)"
   ]
  },
  {
   "cell_type": "code",
   "execution_count": 539,
   "metadata": {},
   "outputs": [],
   "source": [
    "col = ['Income']\n",
    "lbl = LabelEncoder()\n",
    "for c in col:\n",
    "    data_df[c] = lbl.fit_transform(data_df[c])\n",
    "    dumy = pd.get_dummies(data_df[c], prefix = c, sparse = False)\n",
    "    data_df = pd.concat([data_df, dumy], axis = 1)\n",
    "    \n",
    "col = ['Income']\n",
    "lbl = LabelEncoder()\n",
    "for c in col:\n",
    "    test_df[c] = lbl.fit_transform(test_df[c])\n",
    "    dumy = pd.get_dummies(test_df[c], prefix = c, sparse = False)\n",
    "    test_df = pd.concat([test_df, dumy], axis = 1)"
   ]
  },
  {
   "cell_type": "code",
   "execution_count": 553,
   "metadata": {},
   "outputs": [],
   "source": [
    "test_df['Category2_6'] = 0\n",
    "test_df['Category3_1'] = 0"
   ]
  },
  {
   "cell_type": "code",
   "execution_count": 435,
   "metadata": {},
   "outputs": [
    {
     "data": {
      "text/plain": [
       "Patient_ID             int64\n",
       "Health_Camp_ID         int64\n",
       "Registration_Date     object\n",
       "Var1                   int64\n",
       "Var2                   int64\n",
       "Var3                   int64\n",
       "Var4                   int64\n",
       "Var5                   int64\n",
       "Online_Follower        int64\n",
       "LinkedIn_Shared        int64\n",
       "Twitter_Shared         int64\n",
       "Facebook_Shared        int64\n",
       "Income                 int64\n",
       "Education_Score      float64\n",
       "Age                  float64\n",
       "First_Interaction     object\n",
       "City_Type              int64\n",
       "Employer_Category     object\n",
       "Camp_Start_Date       object\n",
       "Camp_End_Date         object\n",
       "Category1              int64\n",
       "Category2              int64\n",
       "Category3              int64\n",
       "Online_activity        int64\n",
       "Category1_0            uint8\n",
       "Category1_1            uint8\n",
       "Category1_2            uint8\n",
       "Category2_0            uint8\n",
       "Category2_1            uint8\n",
       "Category2_2            uint8\n",
       "Category2_3            uint8\n",
       "Category2_4            uint8\n",
       "Category2_5            uint8\n",
       "Category3_0            uint8\n",
       "dtype: object"
      ]
     },
     "execution_count": 435,
     "metadata": {},
     "output_type": "execute_result"
    }
   ],
   "source": [
    "test_df.dtypes"
   ]
  },
  {
   "cell_type": "code",
   "execution_count": 436,
   "metadata": {},
   "outputs": [
    {
     "data": {
      "text/plain": [
       "Index(['Patient_ID', 'Health_Camp_ID', 'Registration_Date', 'Var1', 'Var2',\n",
       "       'Var3', 'Var4', 'Var5', 'Outcome', 'Online_Follower', 'LinkedIn_Shared',\n",
       "       'Twitter_Shared', 'Facebook_Shared', 'Income', 'Education_Score', 'Age',\n",
       "       'First_Interaction', 'City_Type', 'Employer_Category',\n",
       "       'Camp_Start_Date', 'Camp_End_Date', 'Category1', 'Category2',\n",
       "       'Category3', 'Online_activity', 'Category1_0', 'Category1_1',\n",
       "       'Category1_2', 'Category2_0', 'Category2_1', 'Category2_2',\n",
       "       'Category2_3', 'Category2_4', 'Category2_5', 'Category2_6',\n",
       "       'Category3_0', 'Category3_1'],\n",
       "      dtype='object')"
      ]
     },
     "execution_count": 436,
     "metadata": {},
     "output_type": "execute_result"
    }
   ],
   "source": [
    "data_df.columns"
   ]
  },
  {
   "cell_type": "code",
   "execution_count": 540,
   "metadata": {},
   "outputs": [],
   "source": [
    "MIN_MAX_COL = ['Var1', 'Var2', 'Var3', 'Var4', 'Var5', 'Education_Score', 'Age']\n",
    "\n",
    "from sklearn.preprocessing import MinMaxScaler\n",
    "\n",
    "scaler = MinMaxScaler()\n",
    "data_df[MIN_MAX_COL] = scaler.fit_transform(data_df[MIN_MAX_COL])\n",
    "\n",
    "scaler = MinMaxScaler()\n",
    "test_df[MIN_MAX_COL] = scaler.fit_transform(test_df[MIN_MAX_COL])"
   ]
  },
  {
   "cell_type": "code",
   "execution_count": 541,
   "metadata": {},
   "outputs": [],
   "source": [
    "test_df['Outcome'] = 0"
   ]
  },
  {
   "cell_type": "code",
   "execution_count": 439,
   "metadata": {},
   "outputs": [
    {
     "data": {
      "text/html": [
       "<div>\n",
       "<style scoped>\n",
       "    .dataframe tbody tr th:only-of-type {\n",
       "        vertical-align: middle;\n",
       "    }\n",
       "\n",
       "    .dataframe tbody tr th {\n",
       "        vertical-align: top;\n",
       "    }\n",
       "\n",
       "    .dataframe thead th {\n",
       "        text-align: right;\n",
       "    }\n",
       "</style>\n",
       "<table border=\"1\" class=\"dataframe\">\n",
       "  <thead>\n",
       "    <tr style=\"text-align: right;\">\n",
       "      <th></th>\n",
       "      <th>Patient_ID</th>\n",
       "      <th>Health_Camp_ID</th>\n",
       "      <th>Registration_Date</th>\n",
       "      <th>Var1</th>\n",
       "      <th>Var2</th>\n",
       "      <th>Var3</th>\n",
       "      <th>Var4</th>\n",
       "      <th>Var5</th>\n",
       "      <th>Outcome</th>\n",
       "      <th>Online_Follower</th>\n",
       "      <th>...</th>\n",
       "      <th>Category1_2</th>\n",
       "      <th>Category2_0</th>\n",
       "      <th>Category2_1</th>\n",
       "      <th>Category2_2</th>\n",
       "      <th>Category2_3</th>\n",
       "      <th>Category2_4</th>\n",
       "      <th>Category2_5</th>\n",
       "      <th>Category2_6</th>\n",
       "      <th>Category3_0</th>\n",
       "      <th>Category3_1</th>\n",
       "    </tr>\n",
       "  </thead>\n",
       "  <tbody>\n",
       "    <tr>\n",
       "      <th>0</th>\n",
       "      <td>489652</td>\n",
       "      <td>6578</td>\n",
       "      <td>10-Sep-05</td>\n",
       "      <td>0.013889</td>\n",
       "      <td>0.000000</td>\n",
       "      <td>0.0</td>\n",
       "      <td>0.0</td>\n",
       "      <td>0.064516</td>\n",
       "      <td>1.0</td>\n",
       "      <td>0</td>\n",
       "      <td>...</td>\n",
       "      <td>1</td>\n",
       "      <td>0</td>\n",
       "      <td>0</td>\n",
       "      <td>0</td>\n",
       "      <td>0</td>\n",
       "      <td>0</td>\n",
       "      <td>0</td>\n",
       "      <td>1</td>\n",
       "      <td>0</td>\n",
       "      <td>1</td>\n",
       "    </tr>\n",
       "    <tr>\n",
       "      <th>1</th>\n",
       "      <td>507246</td>\n",
       "      <td>6578</td>\n",
       "      <td>18-Aug-05</td>\n",
       "      <td>0.156250</td>\n",
       "      <td>0.032051</td>\n",
       "      <td>0.0</td>\n",
       "      <td>0.0</td>\n",
       "      <td>0.225806</td>\n",
       "      <td>0.0</td>\n",
       "      <td>0</td>\n",
       "      <td>...</td>\n",
       "      <td>1</td>\n",
       "      <td>0</td>\n",
       "      <td>0</td>\n",
       "      <td>0</td>\n",
       "      <td>0</td>\n",
       "      <td>0</td>\n",
       "      <td>0</td>\n",
       "      <td>1</td>\n",
       "      <td>0</td>\n",
       "      <td>1</td>\n",
       "    </tr>\n",
       "    <tr>\n",
       "      <th>2</th>\n",
       "      <td>523729</td>\n",
       "      <td>6534</td>\n",
       "      <td>29-Apr-06</td>\n",
       "      <td>0.000000</td>\n",
       "      <td>0.000000</td>\n",
       "      <td>0.0</td>\n",
       "      <td>0.0</td>\n",
       "      <td>0.000000</td>\n",
       "      <td>1.0</td>\n",
       "      <td>0</td>\n",
       "      <td>...</td>\n",
       "      <td>0</td>\n",
       "      <td>1</td>\n",
       "      <td>0</td>\n",
       "      <td>0</td>\n",
       "      <td>0</td>\n",
       "      <td>0</td>\n",
       "      <td>0</td>\n",
       "      <td>0</td>\n",
       "      <td>0</td>\n",
       "      <td>1</td>\n",
       "    </tr>\n",
       "    <tr>\n",
       "      <th>3</th>\n",
       "      <td>524931</td>\n",
       "      <td>6535</td>\n",
       "      <td>07-Feb-04</td>\n",
       "      <td>0.000000</td>\n",
       "      <td>0.000000</td>\n",
       "      <td>0.0</td>\n",
       "      <td>0.0</td>\n",
       "      <td>0.000000</td>\n",
       "      <td>0.0</td>\n",
       "      <td>0</td>\n",
       "      <td>...</td>\n",
       "      <td>0</td>\n",
       "      <td>0</td>\n",
       "      <td>0</td>\n",
       "      <td>0</td>\n",
       "      <td>0</td>\n",
       "      <td>1</td>\n",
       "      <td>0</td>\n",
       "      <td>0</td>\n",
       "      <td>0</td>\n",
       "      <td>1</td>\n",
       "    </tr>\n",
       "    <tr>\n",
       "      <th>4</th>\n",
       "      <td>521364</td>\n",
       "      <td>6529</td>\n",
       "      <td>28-Feb-06</td>\n",
       "      <td>0.052083</td>\n",
       "      <td>0.006410</td>\n",
       "      <td>0.0</td>\n",
       "      <td>0.0</td>\n",
       "      <td>0.225806</td>\n",
       "      <td>1.0</td>\n",
       "      <td>0</td>\n",
       "      <td>...</td>\n",
       "      <td>0</td>\n",
       "      <td>1</td>\n",
       "      <td>0</td>\n",
       "      <td>0</td>\n",
       "      <td>0</td>\n",
       "      <td>0</td>\n",
       "      <td>0</td>\n",
       "      <td>0</td>\n",
       "      <td>0</td>\n",
       "      <td>1</td>\n",
       "    </tr>\n",
       "  </tbody>\n",
       "</table>\n",
       "<p>5 rows × 37 columns</p>\n",
       "</div>"
      ],
      "text/plain": [
       "   Patient_ID  Health_Camp_ID Registration_Date      Var1      Var2  Var3  \\\n",
       "0      489652            6578         10-Sep-05  0.013889  0.000000   0.0   \n",
       "1      507246            6578         18-Aug-05  0.156250  0.032051   0.0   \n",
       "2      523729            6534         29-Apr-06  0.000000  0.000000   0.0   \n",
       "3      524931            6535         07-Feb-04  0.000000  0.000000   0.0   \n",
       "4      521364            6529         28-Feb-06  0.052083  0.006410   0.0   \n",
       "\n",
       "   Var4      Var5  Outcome  Online_Follower  ...  Category1_2  Category2_0  \\\n",
       "0   0.0  0.064516      1.0                0  ...            1            0   \n",
       "1   0.0  0.225806      0.0                0  ...            1            0   \n",
       "2   0.0  0.000000      1.0                0  ...            0            1   \n",
       "3   0.0  0.000000      0.0                0  ...            0            0   \n",
       "4   0.0  0.225806      1.0                0  ...            0            1   \n",
       "\n",
       "   Category2_1  Category2_2  Category2_3  Category2_4 Category2_5  \\\n",
       "0            0            0            0            0           0   \n",
       "1            0            0            0            0           0   \n",
       "2            0            0            0            0           0   \n",
       "3            0            0            0            1           0   \n",
       "4            0            0            0            0           0   \n",
       "\n",
       "   Category2_6 Category3_0 Category3_1  \n",
       "0            1           0           1  \n",
       "1            1           0           1  \n",
       "2            0           0           1  \n",
       "3            0           0           1  \n",
       "4            0           0           1  \n",
       "\n",
       "[5 rows x 37 columns]"
      ]
     },
     "execution_count": 439,
     "metadata": {},
     "output_type": "execute_result"
    }
   ],
   "source": [
    "data_df.head()"
   ]
  },
  {
   "cell_type": "markdown",
   "metadata": {},
   "source": [
    "### Modelling"
   ]
  },
  {
   "cell_type": "code",
   "execution_count": 554,
   "metadata": {},
   "outputs": [
    {
     "data": {
      "text/plain": [
       "(45,\n",
       " Index(['Patient_ID', 'Health_Camp_ID', 'Registration_Date', 'Var1', 'Var2',\n",
       "        'Var3', 'Var4', 'Var5', 'Outcome', 'Online_Follower', 'LinkedIn_Shared',\n",
       "        'Twitter_Shared', 'Facebook_Shared', 'Income', 'Education_Score', 'Age',\n",
       "        'First_Interaction', 'City_Type', 'Employer_Category',\n",
       "        'Camp_Start_Date', 'Camp_End_Date', 'Category1', 'Category2',\n",
       "        'Category3', 'Online_activity', 'Income_0', 'Income_1', 'Income_2',\n",
       "        'Income_3', 'Income_4', 'Income_5', 'Income_6', 'Income_7',\n",
       "        'Category1_0', 'Category1_1', 'Category1_2', 'Category2_0',\n",
       "        'Category2_1', 'Category2_2', 'Category2_3', 'Category2_4',\n",
       "        'Category2_5', 'Category2_6', 'Category3_0', 'Category3_1'],\n",
       "       dtype='object'))"
      ]
     },
     "execution_count": 554,
     "metadata": {},
     "output_type": "execute_result"
    }
   ],
   "source": [
    "len(data_df.columns), data_df.columns"
   ]
  },
  {
   "cell_type": "code",
   "execution_count": 555,
   "metadata": {},
   "outputs": [
    {
     "data": {
      "text/plain": [
       "(45,\n",
       " Index(['Patient_ID', 'Health_Camp_ID', 'Registration_Date', 'Var1', 'Var2',\n",
       "        'Var3', 'Var4', 'Var5', 'Online_Follower', 'LinkedIn_Shared',\n",
       "        'Twitter_Shared', 'Facebook_Shared', 'Income', 'Education_Score', 'Age',\n",
       "        'First_Interaction', 'City_Type', 'Employer_Category',\n",
       "        'Camp_Start_Date', 'Camp_End_Date', 'Category1', 'Category2',\n",
       "        'Category3', 'Online_activity', 'Income_0', 'Income_1', 'Income_2',\n",
       "        'Income_3', 'Income_4', 'Income_5', 'Income_6', 'Income_7', 'Outcome',\n",
       "        'Category1_0', 'Category1_1', 'Category1_2', 'Category2_0',\n",
       "        'Category2_1', 'Category2_2', 'Category2_3', 'Category2_4',\n",
       "        'Category2_5', 'Category3_0', 'Category2_6', 'Category3_1'],\n",
       "       dtype='object'))"
      ]
     },
     "execution_count": 555,
     "metadata": {},
     "output_type": "execute_result"
    }
   ],
   "source": [
    "len(test_df.columns), test_df.columns"
   ]
  },
  {
   "cell_type": "code",
   "execution_count": 580,
   "metadata": {},
   "outputs": [],
   "source": [
    "col = [ 'Patient_ID', 'Health_Camp_ID', 'Var1', 'Var2',\n",
    "        'Var3', 'Var4', 'Var5', 'Education_Score', 'Age',\n",
    "        'Income_0', 'Income_1', 'Income_2',\n",
    "        'Income_3', 'Income_4', 'Income_5', 'Income_6', 'Income_7',\n",
    "        'Online_activity', 'Category1', 'Category2',\n",
    "        'Category3']"
   ]
  },
  {
   "cell_type": "code",
   "execution_count": 581,
   "metadata": {},
   "outputs": [],
   "source": [
    "X = data_df[col]\n",
    "y = data_df['Outcome']"
   ]
  },
  {
   "cell_type": "code",
   "execution_count": 582,
   "metadata": {},
   "outputs": [],
   "source": [
    "from sklearn.model_selection import train_test_split\n",
    "from sklearn.linear_model import LogisticRegression\n",
    "from sklearn.naive_bayes import GaussianNB\n",
    "from sklearn.model_selection import StratifiedKFold\n",
    "from sklearn.metrics import accuracy_score\n",
    "from sklearn.metrics import roc_auc_score\n",
    "import catboost as cb\n",
    "from sklearn.model_selection import KFold, GridSearchCV, GroupKFold\n",
    "from sklearn.ensemble import RandomForestClassifier\n",
    "import lightgbm as lgb\n",
    "from category_encoders.ordinal import OrdinalEncoder\n",
    "from category_encoders import TargetEncoder, MEstimateEncoder"
   ]
  },
  {
   "cell_type": "code",
   "execution_count": 583,
   "metadata": {},
   "outputs": [],
   "source": [
    "X_train, X_valid, y_train, y_valid = train_test_split(X, y, random_state = 42)"
   ]
  },
  {
   "cell_type": "markdown",
   "metadata": {},
   "source": [
    "### Logistic Regression"
   ]
  },
  {
   "cell_type": "code",
   "execution_count": 71,
   "metadata": {},
   "outputs": [
    {
     "name": "stdout",
     "output_type": "stream",
     "text": [
      "accuracy_score_training 0.7270714513443621\n",
      "accuracy_score 0.7276833156216791\n",
      "auc_score_training 0.5\n",
      "auc_score 0.5\n"
     ]
    }
   ],
   "source": [
    "model = LogisticRegression(random_state = 42)\n",
    "model.fit(X_train, y_train)\n",
    "pred_test = model.predict(X_valid)\n",
    "pred_tr = model.predict(X_train)\n",
    "\n",
    "score_tr = accuracy_score(y_train, pred_tr)\n",
    "score = accuracy_score(y_valid, pred_test)\n",
    "score_auc = roc_auc_score(y_valid, pred_test)\n",
    "score_auc_tr = roc_auc_score(y_train, pred_tr)\n",
    "\n",
    "print('accuracy_score_training', score_tr)\n",
    "print('accuracy_score', score)\n",
    "print('auc_score_training', score_auc_tr)\n",
    "print('auc_score', score_auc)\n",
    "\n",
    "model.fit(X, y)\n",
    "prediction = model.predict(test_df[col])\n",
    "ss['Outcome'] = prediction\n",
    "ss.to_csv('LR.csv', index = False)"
   ]
  },
  {
   "cell_type": "markdown",
   "metadata": {},
   "source": [
    "### Random Forest Classifier"
   ]
  },
  {
   "cell_type": "code",
   "execution_count": 218,
   "metadata": {},
   "outputs": [
    {
     "name": "stdout",
     "output_type": "stream",
     "text": [
      "accuracy_score_training 0.9996811789294697\n",
      "accuracy_score 0.751009564293305\n",
      "auc_score_training 0.999415925757674\n",
      "auc_score 0.6756158469799375\n"
     ]
    }
   ],
   "source": [
    "model = RandomForestClassifier(random_state = 42)\n",
    "model.fit(X_train, y_train)\n",
    "pred_test = model.predict(X_valid)\n",
    "pred_tr = model.predict(X_train)\n",
    "\n",
    "score_tr = accuracy_score(y_train, pred_tr)\n",
    "score = accuracy_score(y_valid, pred_test)\n",
    "score_auc = roc_auc_score(y_valid, pred_test)\n",
    "score_auc_tr = roc_auc_score(y_train, pred_tr)\n",
    "\n",
    "print('accuracy_score_training', score_tr)\n",
    "print('accuracy_score', score)\n",
    "print('auc_score_training', score_auc_tr)\n",
    "print('auc_score', score_auc)\n",
    "\n",
    "model.fit(X, y)\n",
    "prediction = model.predict(test_df[col])\n",
    "ss['Outcome'] = prediction\n",
    "ss.to_csv('RF.csv', index = False)"
   ]
  },
  {
   "cell_type": "markdown",
   "metadata": {},
   "source": [
    "### LGBM Classfier"
   ]
  },
  {
   "cell_type": "code",
   "execution_count": 431,
   "metadata": {},
   "outputs": [
    {
     "name": "stderr",
     "output_type": "stream",
     "text": [
      "C:\\Users\\rajat\\Anaconda3\\lib\\site-packages\\lightgbm\\engine.py:148: UserWarning: Found `n_estimators` in params. Will use it instead of argument\n",
      "  warnings.warn(\"Found `{}` in params. Will use it instead of argument\".format(alias))\n",
      "C:\\Users\\rajat\\Anaconda3\\lib\\site-packages\\lightgbm\\basic.py:1295: UserWarning: categorical_feature in Dataset is overridden.\n",
      "New categorical_feature is ['Facebook_Shared', 'Income', 'LinkedIn_Shared', 'Online_Follower', 'Twitter_Shared']\n",
      "  'New categorical_feature is {}'.format(sorted(list(categorical_feature))))\n",
      "C:\\Users\\rajat\\Anaconda3\\lib\\site-packages\\lightgbm\\basic.py:842: UserWarning: silent keyword has been found in `params` and will be ignored.\n",
      "Please use silent argument of the Dataset constructor to pass this parameter.\n",
      "  .format(key))\n"
     ]
    },
    {
     "data": {
      "text/plain": [
       "(0.8684445039141209, 0.8309366601661636)"
      ]
     },
     "execution_count": 431,
     "metadata": {},
     "output_type": "execute_result"
    }
   ],
   "source": [
    "#With Catgeorical Features\n",
    "from sklearn import metrics\n",
    "\n",
    "def auc2(m, train, test): \n",
    "    return (metrics.roc_auc_score(y_train, m.predict(train)), metrics.roc_auc_score(y_valid, m.predict(test)))\n",
    "\n",
    "d_train = lgb.Dataset(X_train, label = y_train)\n",
    "params = {'boosting_type' : 'gbdt',\n",
    "          'objective' : 'binary',\n",
    "          'random_state' : 42,\n",
    "          'metric' : 'binary_logloss',\n",
    "          \"max_depth\": 20,\n",
    "          \"learning_rate\" : 0.01,\n",
    "          \"num_leaves\": 200,\n",
    "          \"n_estimators\": 300,\n",
    "          'min_data_in_leaf' : 20,\n",
    "          'silent' : False}\n",
    "model = lgb.train(params, d_train, categorical_feature = ['Online_Follower', 'LinkedIn_Shared',\\\n",
    "       'Twitter_Shared', 'Facebook_Shared', 'Income'])\n",
    "auc2(model, X_train, X_valid)"
   ]
  },
  {
   "cell_type": "code",
   "execution_count": 590,
   "metadata": {},
   "outputs": [
    {
     "name": "stderr",
     "output_type": "stream",
     "text": [
      "C:\\Users\\rajat\\Anaconda3\\lib\\site-packages\\lightgbm\\engine.py:148: UserWarning: Found `n_estimators` in params. Will use it instead of argument\n",
      "  warnings.warn(\"Found `{}` in params. Will use it instead of argument\".format(alias))\n",
      "C:\\Users\\rajat\\Anaconda3\\lib\\site-packages\\lightgbm\\basic.py:842: UserWarning: silent keyword has been found in `params` and will be ignored.\n",
      "Please use silent argument of the Dataset constructor to pass this parameter.\n",
      "  .format(key))\n"
     ]
    }
   ],
   "source": [
    "# on X,Y Dataset\n",
    "d_train = lgb.Dataset(X, label = y)\n",
    "params = {'boosting_type' : 'gbdt',\n",
    "          'objective' : 'binary',\n",
    "          'random_state' : 42,\n",
    "          'metric' : 'binary_logloss',\n",
    "          \"max_depth\": 30,\n",
    "          \"learning_rate\" : 0.01,\n",
    "          \"n_estimators\": 800,\n",
    "          'min_data_in_leaf' : 30,\n",
    "          'silent' : False}\n",
    "model = lgb.train(params, d_train)\n",
    "prediction = model.predict(test_df[col])\n",
    "ss['Outcome'] = prediction\n",
    "ss.to_csv('LGBM.csv', index = False)"
   ]
  },
  {
   "cell_type": "code",
   "execution_count": 591,
   "metadata": {},
   "outputs": [
    {
     "data": {
      "text/html": [
       "<div>\n",
       "<style scoped>\n",
       "    .dataframe tbody tr th:only-of-type {\n",
       "        vertical-align: middle;\n",
       "    }\n",
       "\n",
       "    .dataframe tbody tr th {\n",
       "        vertical-align: top;\n",
       "    }\n",
       "\n",
       "    .dataframe thead th {\n",
       "        text-align: right;\n",
       "    }\n",
       "</style>\n",
       "<table border=\"1\" class=\"dataframe\">\n",
       "  <thead>\n",
       "    <tr style=\"text-align: right;\">\n",
       "      <th></th>\n",
       "      <th>feature</th>\n",
       "      <th>importance</th>\n",
       "    </tr>\n",
       "  </thead>\n",
       "  <tbody>\n",
       "    <tr>\n",
       "      <th>1</th>\n",
       "      <td>Health_Camp_ID</td>\n",
       "      <td>5894</td>\n",
       "    </tr>\n",
       "    <tr>\n",
       "      <th>0</th>\n",
       "      <td>Patient_ID</td>\n",
       "      <td>4371</td>\n",
       "    </tr>\n",
       "    <tr>\n",
       "      <th>8</th>\n",
       "      <td>Age</td>\n",
       "      <td>3134</td>\n",
       "    </tr>\n",
       "    <tr>\n",
       "      <th>7</th>\n",
       "      <td>Education_Score</td>\n",
       "      <td>2577</td>\n",
       "    </tr>\n",
       "    <tr>\n",
       "      <th>2</th>\n",
       "      <td>Var1</td>\n",
       "      <td>1727</td>\n",
       "    </tr>\n",
       "    <tr>\n",
       "      <th>19</th>\n",
       "      <td>Category2</td>\n",
       "      <td>1527</td>\n",
       "    </tr>\n",
       "    <tr>\n",
       "      <th>17</th>\n",
       "      <td>Online_activity</td>\n",
       "      <td>931</td>\n",
       "    </tr>\n",
       "    <tr>\n",
       "      <th>18</th>\n",
       "      <td>Category1</td>\n",
       "      <td>816</td>\n",
       "    </tr>\n",
       "    <tr>\n",
       "      <th>6</th>\n",
       "      <td>Var5</td>\n",
       "      <td>618</td>\n",
       "    </tr>\n",
       "    <tr>\n",
       "      <th>9</th>\n",
       "      <td>Income_0</td>\n",
       "      <td>498</td>\n",
       "    </tr>\n",
       "    <tr>\n",
       "      <th>3</th>\n",
       "      <td>Var2</td>\n",
       "      <td>399</td>\n",
       "    </tr>\n",
       "    <tr>\n",
       "      <th>10</th>\n",
       "      <td>Income_1</td>\n",
       "      <td>335</td>\n",
       "    </tr>\n",
       "    <tr>\n",
       "      <th>14</th>\n",
       "      <td>Income_5</td>\n",
       "      <td>274</td>\n",
       "    </tr>\n",
       "    <tr>\n",
       "      <th>11</th>\n",
       "      <td>Income_2</td>\n",
       "      <td>272</td>\n",
       "    </tr>\n",
       "    <tr>\n",
       "      <th>12</th>\n",
       "      <td>Income_3</td>\n",
       "      <td>199</td>\n",
       "    </tr>\n",
       "  </tbody>\n",
       "</table>\n",
       "</div>"
      ],
      "text/plain": [
       "            feature  importance\n",
       "1    Health_Camp_ID        5894\n",
       "0        Patient_ID        4371\n",
       "8               Age        3134\n",
       "7   Education_Score        2577\n",
       "2              Var1        1727\n",
       "19        Category2        1527\n",
       "17  Online_activity         931\n",
       "18        Category1         816\n",
       "6              Var5         618\n",
       "9          Income_0         498\n",
       "3              Var2         399\n",
       "10         Income_1         335\n",
       "14         Income_5         274\n",
       "11         Income_2         272\n",
       "12         Income_3         199"
      ]
     },
     "execution_count": 591,
     "metadata": {},
     "output_type": "execute_result"
    }
   ],
   "source": [
    "a = model.feature_importance(importance_type = 'split')\n",
    "feature = pd.DataFrame(model.feature_name(), columns = ['feature'])\n",
    "feature['importance'] = a\n",
    "feature = feature.sort_values(by = ['importance'], ascending = False)\n",
    "feature.head(15)"
   ]
  },
  {
   "cell_type": "markdown",
   "metadata": {},
   "source": [
    "#### Till here we have achieved, 123 rank with .68214 score"
   ]
  },
  {
   "cell_type": "markdown",
   "metadata": {},
   "source": [
    "### Date TIme Feature Engineering"
   ]
  },
  {
   "cell_type": "code",
   "execution_count": 562,
   "metadata": {},
   "outputs": [],
   "source": [
    "# Registration date\n",
    "data_df['Registration_Date'] = pd.to_datetime(data_df['Registration_Date'], format='%d-%b-%y')\n",
    "test_df['Registration_Date'] = pd.to_datetime(test_df['Registration_Date'], format='%d-%b-%y')\n",
    "# First interaction\n",
    "data_df['First_Interaction'] = pd.to_datetime(data_df['First_Interaction'], format='%d-%b-%y')\n",
    "test_df['First_Interaction'] = pd.to_datetime(test_df['First_Interaction'], format='%d-%b-%y')\n",
    "# camp start date\n",
    "data_df['Camp_Start_Date'] = pd.to_datetime(data_df['Camp_Start_Date'], format='%d-%b-%y')\n",
    "test_df['Camp_Start_Date'] = pd.to_datetime(test_df['Camp_Start_Date'], format='%d-%b-%y')\n",
    "# camp end date\n",
    "data_df['Camp_End_Date'] = pd.to_datetime(data_df['Camp_End_Date'], format='%d-%b-%y')\n",
    "test_df['Camp_End_Date'] = pd.to_datetime(test_df['Camp_End_Date'], format='%d-%b-%y')"
   ]
  },
  {
   "cell_type": "code",
   "execution_count": 563,
   "metadata": {},
   "outputs": [],
   "source": [
    "data_df.insert(0,'month',data_df['Registration_Date'].apply(lambda x:x.month))\n",
    "data_df.insert(0,'day',data_df['Registration_Date'].apply(lambda x:x.day))\n",
    "data_df.insert(0,'year',data_df['Registration_Date'].apply(lambda x:x.year))\n",
    "# data_df.insert(0, 'month_start', data_df['Registration_Date'].apply(lambda x: 1 if x.is_month_start else 0 ) )\n",
    "# data_df.insert(0, 'month_end', data_df['Registration_Date'].apply(lambda x: 1 if x.is_month_end else 0 ) )\n",
    "# data_df.insert(0,'week_start',data_df['day'].apply(lambda x: 1 if x == 0 or x ==1 else 0 ) )\n",
    "# data_df.insert(0,'week_end',data_df['day'].apply(lambda x: 1 if x == 5 or x ==6 else 0 ) )\n",
    "# data_df.insert(0,'quarter_start',data_df['Registration_Date'].apply(lambda x: 1 if x.is_quarter_start else 0 ) )\n",
    "# data_df.insert(0,'quarter_end',data_df['Registration_Date'].apply(lambda x: 1 if x.is_quarter_end else 0 ) )\n",
    "# data_df.insert(0,'year_start',data_df['Registration_Date'].apply(lambda x: 1 if x.is_year_start else 0 ) )\n",
    "# data_df.insert(0,'year_end',data_df['Registration_Date'].apply(lambda x: 1 if x.is_year_end else 0 ) )"
   ]
  },
  {
   "cell_type": "code",
   "execution_count": 564,
   "metadata": {},
   "outputs": [],
   "source": [
    "test_df.insert(0,'month',test_df['Registration_Date'].apply(lambda x:x.month))\n",
    "test_df.insert(0,'day',test_df['Registration_Date'].apply(lambda x:x.day))\n",
    "test_df.insert(0,'year',test_df['Registration_Date'].apply(lambda x:x.year))\n",
    "# test_df.insert(0, 'month_start', test_df['Registration_Date'].apply(lambda x: 1 if x.is_month_start else 0 ) )\n",
    "# test_df.insert(0, 'month_end', test_df['Registration_Date'].apply(lambda x: 1 if x.is_month_end else 0 ) )\n",
    "# test_df.insert(0,'week_start',test_df['day'].apply(lambda x: 1 if x == 0 or x ==1 else 0 ) )\n",
    "# test_df.insert(0,'week_end',test_df['day'].apply(lambda x: 1 if x == 5 or x ==6 else 0 ) )\n",
    "# test_df.insert(0,'quarter_start',test_df['Registration_Date'].apply(lambda x: 1 if x.is_quarter_start else 0 ) )\n",
    "# test_df.insert(0,'quarter_end',test_df['Registration_Date'].apply(lambda x: 1 if x.is_quarter_end else 0 ) )\n",
    "# test_df.insert(0,'year_start',test_df['Registration_Date'].apply(lambda x: 1 if x.is_year_start else 0 ) )\n",
    "# test_df.insert(0,'year_end',test_df['Registration_Date'].apply(lambda x: 1 if x.is_year_end else 0 ) )"
   ]
  },
  {
   "cell_type": "code",
   "execution_count": 565,
   "metadata": {},
   "outputs": [],
   "source": [
    "data_df.insert(0,'ft_month',data_df['First_Interaction'].apply(lambda x:x.month))\n",
    "data_df.insert(0,'ft_day',data_df['First_Interaction'].apply(lambda x:x.day))\n",
    "data_df.insert(0,'ft_year',data_df['First_Interaction'].apply(lambda x:x.year))\n",
    "\n",
    "test_df.insert(0,'ft_month',test_df['First_Interaction'].apply(lambda x:x.month))\n",
    "test_df.insert(0,'ft_day',test_df['First_Interaction'].apply(lambda x:x.day))\n",
    "test_df.insert(0,'ft_year',test_df['First_Interaction'].apply(lambda x:x.year))"
   ]
  },
  {
   "cell_type": "code",
   "execution_count": 566,
   "metadata": {},
   "outputs": [],
   "source": [
    "data_df['Camp_Duration'] = (data_df['Camp_End_Date'] - data_df['Camp_Start_Date']).dt.days\n",
    "data_df['#days_to_registration'] = (data_df['Registration_Date'] - data_df['First_Interaction']).dt.days\n",
    "data_df['#days_to_camp_start'] = (data_df['Camp_Start_Date'] - data_df['First_Interaction']).dt.days\n",
    "\n",
    "test_df['Camp_Duration'] = (test_df['Camp_End_Date'] - test_df['Camp_Start_Date']).dt.days\n",
    "test_df['#days_to_registration'] = (test_df['Registration_Date'] - test_df['First_Interaction']).dt.days\n",
    "test_df['#days_to_camp_start'] = (test_df['Camp_Start_Date'] - test_df['First_Interaction']).dt.days"
   ]
  },
  {
   "cell_type": "code",
   "execution_count": 567,
   "metadata": {},
   "outputs": [],
   "source": [
    "data_df.insert(0,'week_number', data_df['Registration_Date'].apply(lambda x:x.isocalendar()[1]))\n",
    "test_df.insert(0,'week_number', test_df['Registration_Date'].apply(lambda x:x.isocalendar()[1]))"
   ]
  },
  {
   "cell_type": "code",
   "execution_count": 568,
   "metadata": {},
   "outputs": [
    {
     "data": {
      "text/plain": [
       "Index(['week_number', 'ft_year', 'ft_day', 'ft_month', 'year', 'day', 'month',\n",
       "       'Patient_ID', 'Health_Camp_ID', 'Registration_Date', 'Var1', 'Var2',\n",
       "       'Var3', 'Var4', 'Var5', 'Outcome', 'Online_Follower', 'LinkedIn_Shared',\n",
       "       'Twitter_Shared', 'Facebook_Shared', 'Income', 'Education_Score', 'Age',\n",
       "       'First_Interaction', 'City_Type', 'Employer_Category',\n",
       "       'Camp_Start_Date', 'Camp_End_Date', 'Category1', 'Category2',\n",
       "       'Category3', 'Online_activity', 'Income_0', 'Income_1', 'Income_2',\n",
       "       'Income_3', 'Income_4', 'Income_5', 'Income_6', 'Income_7',\n",
       "       'Category1_0', 'Category1_1', 'Category1_2', 'Category2_0',\n",
       "       'Category2_1', 'Category2_2', 'Category2_3', 'Category2_4',\n",
       "       'Category2_5', 'Category2_6', 'Category3_0', 'Category3_1',\n",
       "       'Camp_Duration', '#days_to_registration', '#days_to_camp_start'],\n",
       "      dtype='object')"
      ]
     },
     "execution_count": 568,
     "metadata": {},
     "output_type": "execute_result"
    }
   ],
   "source": [
    "data_df.columns"
   ]
  },
  {
   "cell_type": "code",
   "execution_count": 569,
   "metadata": {},
   "outputs": [],
   "source": [
    "new_features = ['week_number', 'year', 'day', 'month',\\\n",
    "                 'ft_year', 'ft_day', 'ft_month',\\\n",
    "    'Camp_Duration', '#days_to_registration', '#days_to_camp_start']"
   ]
  },
  {
   "cell_type": "code",
   "execution_count": 570,
   "metadata": {},
   "outputs": [],
   "source": [
    "col_dt_to_use = col + new_features"
   ]
  },
  {
   "cell_type": "code",
   "execution_count": 571,
   "metadata": {},
   "outputs": [],
   "source": [
    "X = data_df[col_dt_to_use]\n",
    "y = data_df['Outcome']"
   ]
  },
  {
   "cell_type": "code",
   "execution_count": 573,
   "metadata": {},
   "outputs": [],
   "source": [
    "d_train = lgb.Dataset(X, label = y)\n",
    "params = {'boosting_type' : 'gbdt',\n",
    "          'objective' : 'binary',\n",
    "          'random_state' : 42,\n",
    "#           'lambda_l1' : 0.01,\n",
    "#           'lambda_l2' : 0.1,\n",
    "          'metric' : 'binary_logloss',\n",
    "#           \"max_depth\": 40,\n",
    "          \"learning_rate\" : 0.01,\n",
    "#           \"num_leaves\": 500,\n",
    "          \"n_estimators\": 800,\n",
    "#           'min_data_in_leaf' : 30,\n",
    "          'silent' : False}\n",
    "model = lgb.train(params, d_train)\n",
    "prediction = model.predict(test_df[col_dt_to_use])\n",
    "ss['Outcome'] = prediction\n",
    "ss.to_csv('LGBM.csv', index = False)"
   ]
  },
  {
   "cell_type": "code",
   "execution_count": null,
   "metadata": {},
   "outputs": [],
   "source": [
    "# d_train = lgb.Dataset(X, label = y)\n",
    "# params = {'boosting_type' : 'gbdt',\n",
    "#           'objective' : 'binary',\n",
    "#           'random_state' : 42,\n",
    "# #           'lambda_l1' : 0.01,\n",
    "# #           'lambda_l2' : 0.1,\n",
    "#           'metric' : 'binary_logloss',\n",
    "# #           \"max_depth\": 40,\n",
    "#           \"learning_rate\" : 0.01,\n",
    "# #           \"num_leaves\": 500,\n",
    "#           \"n_estimators\": 800,\n",
    "# #           'min_data_in_leaf' : 30,\n",
    "#           'silent' : False}\n",
    "# model = lgb.train(params, d_train, categorical_feature = ['Online_Follower', 'LinkedIn_Shared',\\\n",
    "#        'Twitter_Shared', 'Facebook_Shared', 'Income'])\n",
    "# prediction = model.predict(test_df[col_dt_to_use])\n",
    "# ss['Outcome'] = prediction\n",
    "# ss.to_csv('LGBM.csv', index = False)"
   ]
  }
 ],
 "metadata": {
  "kernelspec": {
   "display_name": "Python 3",
   "language": "python",
   "name": "python3"
  },
  "language_info": {
   "codemirror_mode": {
    "name": "ipython",
    "version": 3
   },
   "file_extension": ".py",
   "mimetype": "text/x-python",
   "name": "python",
   "nbconvert_exporter": "python",
   "pygments_lexer": "ipython3",
   "version": "3.7.3"
  }
 },
 "nbformat": 4,
 "nbformat_minor": 2
}
